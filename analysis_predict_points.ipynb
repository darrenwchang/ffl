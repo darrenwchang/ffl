{
 "cells": [
  {
   "cell_type": "code",
   "execution_count": 1,
   "metadata": {},
   "outputs": [],
   "source": [
    "import pandas as pd"
   ]
  },
  {
   "cell_type": "code",
   "execution_count": 2,
   "metadata": {},
   "outputs": [],
   "source": [
    "players = pd.read_csv(\"data/player_data.csv\")"
   ]
  },
  {
   "cell_type": "code",
   "execution_count": 3,
   "metadata": {},
   "outputs": [],
   "source": [
    "offense = pd.read_csv(\"data/offensive_stats.csv\")"
   ]
  },
  {
   "cell_type": "code",
   "execution_count": 4,
   "metadata": {},
   "outputs": [],
   "source": [
    "from pandas.api.types import is_numeric_dtype\n"
   ]
  },
  {
   "cell_type": "code",
   "execution_count": 5,
   "metadata": {},
   "outputs": [],
   "source": [
    "def add_sma(df: pd.DataFrame) -> pd.DataFrame:\n",
    "    x = df.sort_values([\"player\", \"Season\"])\n",
    "\n",
    "    numeric_cols = [col for col in x.columns if is_numeric_dtype(x[col])]\n",
    "\n",
    "    e = x[[\"player\"] + numeric_cols].groupby(\"player\").ewm(com=0.4).mean()\n",
    "    s = x[[\"player\"] + numeric_cols].groupby(\"player\").rolling(3).mean()\n",
    "\n",
    "    e.columns = [col + \"_ewm\" for col in e.columns if col not in [\"player\"]]\n",
    "\n",
    "    s.columns = [col + \"_sma\" for col in s.columns if col not in [\"player\"]]\n",
    "\n",
    "    return x, pd.concat([e, s], axis=1)"
   ]
  },
  {
   "cell_type": "code",
   "execution_count": 6,
   "metadata": {},
   "outputs": [],
   "source": [
    "x, f = add_sma(offense)"
   ]
  },
  {
   "cell_type": "code",
   "execution_count": 7,
   "metadata": {},
   "outputs": [
    {
     "data": {
      "text/plain": [
       "(6492, 86)"
      ]
     },
     "execution_count": 7,
     "metadata": {},
     "output_type": "execute_result"
    }
   ],
   "source": [
    "dat = pd.concat(\n",
    "    [\n",
    "        x.sort_values([\"player\", \"Season\"]).reset_index(drop=True),\n",
    "        f.reset_index()\n",
    "        .sort_values([\"player\", \"Season_sma\"])\n",
    "        .drop(columns=[\"level_1\", \"Unnamed: 0_ewm\", \"player\"]),\n",
    "    ],\n",
    "    axis=1,\n",
    ")\n",
    "dat.shape"
   ]
  },
  {
   "cell_type": "code",
   "execution_count": 8,
   "metadata": {},
   "outputs": [],
   "source": [
    "dat = dat.drop(columns=[x for x in dat.columns if \"Unnamed\" in x])\n",
    "dat = dat.drop(columns=[x for x in dat.columns if \"season_\" in x])"
   ]
  },
  {
   "cell_type": "code",
   "execution_count": 9,
   "metadata": {},
   "outputs": [],
   "source": [
    "offstats = pd.read_csv(\"data/offensive_stats.csv\")"
   ]
  },
  {
   "cell_type": "code",
   "execution_count": 10,
   "metadata": {},
   "outputs": [],
   "source": [
    "correlations = dat.groupby(\"pos\").corr(numeric_only=True)[\"misc_fpts\"].reset_index()\n",
    "correlations = correlations.rename({\"level_1\": \"metric\"}, axis=1)"
   ]
  },
  {
   "cell_type": "code",
   "execution_count": 11,
   "metadata": {},
   "outputs": [],
   "source": [
    "import plotly.express as px"
   ]
  },
  {
   "cell_type": "code",
   "execution_count": 12,
   "metadata": {},
   "outputs": [
    {
     "data": {
      "text/html": [
       "<div>\n",
       "<style scoped>\n",
       "    .dataframe tbody tr th:only-of-type {\n",
       "        vertical-align: middle;\n",
       "    }\n",
       "\n",
       "    .dataframe tbody tr th {\n",
       "        vertical-align: top;\n",
       "    }\n",
       "\n",
       "    .dataframe thead th {\n",
       "        text-align: right;\n",
       "    }\n",
       "</style>\n",
       "<table border=\"1\" class=\"dataframe\">\n",
       "  <thead>\n",
       "    <tr style=\"text-align: right;\">\n",
       "      <th></th>\n",
       "      <th>pos</th>\n",
       "      <th>metric</th>\n",
       "      <th>misc_fpts</th>\n",
       "    </tr>\n",
       "  </thead>\n",
       "  <tbody>\n",
       "    <tr>\n",
       "      <th>0</th>\n",
       "      <td>qb</td>\n",
       "      <td>passing_cmp</td>\n",
       "      <td>0.975382</td>\n",
       "    </tr>\n",
       "    <tr>\n",
       "      <th>1</th>\n",
       "      <td>qb</td>\n",
       "      <td>passing_att</td>\n",
       "      <td>0.970395</td>\n",
       "    </tr>\n",
       "    <tr>\n",
       "      <th>2</th>\n",
       "      <td>qb</td>\n",
       "      <td>passing_pct</td>\n",
       "      <td>0.576386</td>\n",
       "    </tr>\n",
       "    <tr>\n",
       "      <th>3</th>\n",
       "      <td>qb</td>\n",
       "      <td>passing_yds</td>\n",
       "      <td>0.982230</td>\n",
       "    </tr>\n",
       "    <tr>\n",
       "      <th>4</th>\n",
       "      <td>qb</td>\n",
       "      <td>passing_y/a</td>\n",
       "      <td>0.438854</td>\n",
       "    </tr>\n",
       "  </tbody>\n",
       "</table>\n",
       "</div>"
      ],
      "text/plain": [
       "  pos       metric  misc_fpts\n",
       "0  qb  passing_cmp   0.975382\n",
       "1  qb  passing_att   0.970395\n",
       "2  qb  passing_pct   0.576386\n",
       "3  qb  passing_yds   0.982230\n",
       "4  qb  passing_y/a   0.438854"
      ]
     },
     "execution_count": 12,
     "metadata": {},
     "output_type": "execute_result"
    }
   ],
   "source": [
    "correlations.head()"
   ]
  },
  {
   "cell_type": "code",
   "execution_count": 13,
   "metadata": {},
   "outputs": [
    {
     "data": {
      "application/vnd.plotly.v1+json": {
       "config": {
        "plotlyServerURL": "https://plot.ly"
       },
       "data": [
        {
         "alignmentgroup": "True",
         "hovertemplate": "pos=qb<br>metric=%{x}<br>misc_fpts=%{y}<extra></extra>",
         "legendgroup": "qb",
         "marker": {
          "color": "#636efa",
          "pattern": {
           "shape": ""
          }
         },
         "name": "qb",
         "offsetgroup": "qb",
         "orientation": "v",
         "showlegend": true,
         "textposition": "auto",
         "type": "bar",
         "x": [
          "passing_cmp",
          "passing_att",
          "passing_pct",
          "passing_yds",
          "passing_y/a",
          "passing_td",
          "passing_int",
          "passing_sacks",
          "rushing_att",
          "rushing_yds",
          "rushing_td",
          "misc_fl",
          "misc_g",
          "misc_fpts",
          "misc_fpts/g",
          "Season",
          "pid",
          "rushing_y/a",
          "rushing_lg",
          "rushing_20+",
          "receiving_rec",
          "receiving_tgt",
          "receiving_yds",
          "receiving_y/r",
          "receiving_td",
          "receiving_lg",
          "receiving_20+",
          "passing_cmp_ewm",
          "passing_att_ewm",
          "passing_pct_ewm",
          "passing_yds_ewm",
          "passing_y/a_ewm",
          "passing_td_ewm",
          "passing_int_ewm",
          "passing_sacks_ewm",
          "rushing_att_ewm",
          "rushing_yds_ewm",
          "rushing_td_ewm",
          "misc_fl_ewm",
          "misc_g_ewm",
          "misc_fpts_ewm",
          "misc_fpts/g_ewm",
          "Season_ewm",
          "pid_ewm",
          "rushing_y/a_ewm",
          "rushing_lg_ewm",
          "rushing_20+_ewm",
          "receiving_rec_ewm",
          "receiving_tgt_ewm",
          "receiving_yds_ewm",
          "receiving_y/r_ewm",
          "receiving_td_ewm",
          "receiving_lg_ewm",
          "receiving_20+_ewm",
          "passing_cmp_sma",
          "passing_att_sma",
          "passing_pct_sma",
          "passing_yds_sma",
          "passing_y/a_sma",
          "passing_td_sma",
          "passing_int_sma",
          "passing_sacks_sma",
          "rushing_att_sma",
          "rushing_yds_sma",
          "rushing_td_sma",
          "misc_fl_sma",
          "misc_g_sma",
          "misc_fpts_sma",
          "misc_fpts/g_sma",
          "Season_sma",
          "pid_sma",
          "rushing_y/a_sma",
          "rushing_lg_sma",
          "rushing_20+_sma",
          "receiving_rec_sma",
          "receiving_tgt_sma",
          "receiving_yds_sma",
          "receiving_y/r_sma",
          "receiving_td_sma",
          "receiving_lg_sma",
          "receiving_20+_sma"
         ],
         "xaxis": "x4",
         "y": [
          0.9753816984037942,
          0.9703948921830217,
          0.5763858426701397,
          0.9822295053399009,
          0.43885430629713407,
          0.9763453920263281,
          0.8927189418513504,
          0.8643068609989125,
          0.8288017609249073,
          0.7512227451818286,
          0.670268489849499,
          0.7410166479268707,
          0.9005405833529624,
          1,
          0.8847877990870994,
          2.022872156843974e-14,
          -0.1640832840848217,
          null,
          null,
          null,
          null,
          null,
          null,
          null,
          null,
          null,
          null,
          0.9753816984037942,
          0.9703948921830217,
          0.5763858426701398,
          0.9822295053399008,
          0.43885430629713407,
          0.9763453920263281,
          0.8927189418513501,
          0.8643068609989127,
          0.8288017609249072,
          0.7512227451818284,
          0.6702684898494989,
          0.7410166479268707,
          0.9005405833529624,
          0.9997264043197939,
          0.8847457523172816,
          -0.00029519660590608833,
          -0.1640832840848217,
          null,
          null,
          null,
          null,
          null,
          null,
          null,
          null,
          null,
          null,
          0.9751625933685046,
          0.9701325447544834,
          0.5772211028494059,
          0.9820762870825499,
          0.43958938207661297,
          0.9762398932991773,
          0.8916964869288404,
          0.863137609817135,
          0.822385791612209,
          0.7446463046434632,
          0.6672333128200473,
          0.741079777107729,
          0.8954437411728875,
          0.9990569005421789,
          0.8847092628479857,
          0.0025246937234888072,
          -0.16453361675841022,
          null,
          null,
          null,
          null,
          null,
          null,
          null,
          null,
          null,
          null
         ],
         "yaxis": "y4"
        },
        {
         "alignmentgroup": "True",
         "hovertemplate": "pos=rb<br>metric=%{x}<br>misc_fpts=%{y}<extra></extra>",
         "legendgroup": "rb",
         "marker": {
          "color": "#EF553B",
          "pattern": {
           "shape": ""
          }
         },
         "name": "rb",
         "offsetgroup": "rb",
         "orientation": "v",
         "showlegend": true,
         "textposition": "auto",
         "type": "bar",
         "x": [
          "passing_cmp",
          "passing_att",
          "passing_pct",
          "passing_yds",
          "passing_y/a",
          "passing_td",
          "passing_int",
          "passing_sacks",
          "rushing_att",
          "rushing_yds",
          "rushing_td",
          "misc_fl",
          "misc_g",
          "misc_fpts",
          "misc_fpts/g",
          "Season",
          "pid",
          "rushing_y/a",
          "rushing_lg",
          "rushing_20+",
          "receiving_rec",
          "receiving_tgt",
          "receiving_yds",
          "receiving_y/r",
          "receiving_td",
          "receiving_lg",
          "receiving_20+",
          "passing_cmp_ewm",
          "passing_att_ewm",
          "passing_pct_ewm",
          "passing_yds_ewm",
          "passing_y/a_ewm",
          "passing_td_ewm",
          "passing_int_ewm",
          "passing_sacks_ewm",
          "rushing_att_ewm",
          "rushing_yds_ewm",
          "rushing_td_ewm",
          "misc_fl_ewm",
          "misc_g_ewm",
          "misc_fpts_ewm",
          "misc_fpts/g_ewm",
          "Season_ewm",
          "pid_ewm",
          "rushing_y/a_ewm",
          "rushing_lg_ewm",
          "rushing_20+_ewm",
          "receiving_rec_ewm",
          "receiving_tgt_ewm",
          "receiving_yds_ewm",
          "receiving_y/r_ewm",
          "receiving_td_ewm",
          "receiving_lg_ewm",
          "receiving_20+_ewm",
          "passing_cmp_sma",
          "passing_att_sma",
          "passing_pct_sma",
          "passing_yds_sma",
          "passing_y/a_sma",
          "passing_td_sma",
          "passing_int_sma",
          "passing_sacks_sma",
          "rushing_att_sma",
          "rushing_yds_sma",
          "rushing_td_sma",
          "misc_fl_sma",
          "misc_g_sma",
          "misc_fpts_sma",
          "misc_fpts/g_sma",
          "Season_sma",
          "pid_sma",
          "rushing_y/a_sma",
          "rushing_lg_sma",
          "rushing_20+_sma",
          "receiving_rec_sma",
          "receiving_tgt_sma",
          "receiving_yds_sma",
          "receiving_y/r_sma",
          "receiving_td_sma",
          "receiving_lg_sma",
          "receiving_20+_sma"
         ],
         "xaxis": "x3",
         "y": [
          null,
          null,
          null,
          null,
          null,
          null,
          null,
          null,
          0.9640796727467851,
          0.9783364138842557,
          0.872129894683661,
          0.5554179018153813,
          0.6927845800529226,
          1,
          0.9567906737909383,
          -3.576523852286418e-14,
          -0.13711031244650754,
          0.5916677691581577,
          0.8391136545794521,
          0.8609625624934537,
          0.9239154620666917,
          0.9264008979305852,
          0.9189147483566006,
          0.5281813013789985,
          0.722113307463391,
          null,
          null,
          null,
          null,
          null,
          null,
          null,
          null,
          null,
          null,
          0.9640796727467853,
          0.9783364138842557,
          0.872129894683661,
          0.5554179018153813,
          0.6927845800529226,
          0.999978960769081,
          0.9567826286079276,
          -0.0004884199686936327,
          -0.13711031244650754,
          0.5916677691581577,
          0.8391136545794521,
          0.8609625624934537,
          0.9239154620666917,
          0.9264008979305852,
          0.9189147483566006,
          0.5281813013789985,
          0.722113307463391,
          0.48636437781586517,
          -0.10000000000000002,
          null,
          null,
          null,
          null,
          null,
          null,
          null,
          null,
          0.9641896104574329,
          0.9784007833163587,
          0.8722731135783431,
          0.5551798910175533,
          0.6917528979319717,
          0.9999274396361938,
          0.9568793831197309,
          0.004118991597365361,
          -0.13825283924143353,
          0.5859935839784386,
          0.8367966342673039,
          0.8596979996470845,
          0.9239215546856743,
          0.9263569510445462,
          0.9190266981143805,
          0.5288695012197149,
          0.7204997225730305,
          null,
          null
         ],
         "yaxis": "y3"
        },
        {
         "alignmentgroup": "True",
         "hovertemplate": "pos=te<br>metric=%{x}<br>misc_fpts=%{y}<extra></extra>",
         "legendgroup": "te",
         "marker": {
          "color": "#00cc96",
          "pattern": {
           "shape": ""
          }
         },
         "name": "te",
         "offsetgroup": "te",
         "orientation": "v",
         "showlegend": true,
         "textposition": "auto",
         "type": "bar",
         "x": [
          "passing_cmp",
          "passing_att",
          "passing_pct",
          "passing_yds",
          "passing_y/a",
          "passing_td",
          "passing_int",
          "passing_sacks",
          "rushing_att",
          "rushing_yds",
          "rushing_td",
          "misc_fl",
          "misc_g",
          "misc_fpts",
          "misc_fpts/g",
          "Season",
          "pid",
          "rushing_y/a",
          "rushing_lg",
          "rushing_20+",
          "receiving_rec",
          "receiving_tgt",
          "receiving_yds",
          "receiving_y/r",
          "receiving_td",
          "receiving_lg",
          "receiving_20+",
          "passing_cmp_ewm",
          "passing_att_ewm",
          "passing_pct_ewm",
          "passing_yds_ewm",
          "passing_y/a_ewm",
          "passing_td_ewm",
          "passing_int_ewm",
          "passing_sacks_ewm",
          "rushing_att_ewm",
          "rushing_yds_ewm",
          "rushing_td_ewm",
          "misc_fl_ewm",
          "misc_g_ewm",
          "misc_fpts_ewm",
          "misc_fpts/g_ewm",
          "Season_ewm",
          "pid_ewm",
          "rushing_y/a_ewm",
          "rushing_lg_ewm",
          "rushing_20+_ewm",
          "receiving_rec_ewm",
          "receiving_tgt_ewm",
          "receiving_yds_ewm",
          "receiving_y/r_ewm",
          "receiving_td_ewm",
          "receiving_lg_ewm",
          "receiving_20+_ewm",
          "passing_cmp_sma",
          "passing_att_sma",
          "passing_pct_sma",
          "passing_yds_sma",
          "passing_y/a_sma",
          "passing_td_sma",
          "passing_int_sma",
          "passing_sacks_sma",
          "rushing_att_sma",
          "rushing_yds_sma",
          "rushing_td_sma",
          "misc_fl_sma",
          "misc_g_sma",
          "misc_fpts_sma",
          "misc_fpts/g_sma",
          "Season_sma",
          "pid_sma",
          "rushing_y/a_sma",
          "rushing_lg_sma",
          "rushing_20+_sma",
          "receiving_rec_sma",
          "receiving_tgt_sma",
          "receiving_yds_sma",
          "receiving_y/r_sma",
          "receiving_td_sma",
          "receiving_lg_sma",
          "receiving_20+_sma"
         ],
         "xaxis": "x2",
         "y": [
          null,
          null,
          null,
          null,
          null,
          null,
          null,
          null,
          0.1835278718328923,
          0.1604562879104014,
          0.15029184432295392,
          0.5032973316992652,
          0.6360610680820737,
          1,
          0.9817594504795502,
          2.398440303871067e-14,
          -0.22805539881231832,
          null,
          null,
          null,
          0.985511522205309,
          0.9843298309339019,
          0.9868744471024634,
          0.5766306183656652,
          0.8719233828642732,
          0.7883696153014605,
          0.9134547643707189,
          1.0000000000000002,
          1,
          0.9999999999999999,
          1,
          0.9999999999999999,
          0.9999999999999998,
          null,
          0.9999999999999998,
          0.18352787183289226,
          0.1604562879104014,
          0.1502918443229539,
          0.503297331699265,
          0.6360610680820737,
          0.9991027917985287,
          0.9804714049339582,
          -0.0026822492820701466,
          -0.22805539881231832,
          1.0000000000000002,
          1.0000000000000002,
          null,
          0.985511522205309,
          0.9843298309339019,
          0.9868744471024634,
          0.5766306183656652,
          0.8719233828642732,
          0.7883696153014605,
          0.9134547643707189,
          null,
          null,
          null,
          null,
          null,
          null,
          null,
          null,
          0.19770118347590804,
          0.1768799347853207,
          0.16775339160846722,
          0.5059201460980582,
          0.6377513621454645,
          0.9974965563736643,
          0.9787475490896583,
          -0.003533838593571889,
          -0.22913314647690292,
          null,
          null,
          null,
          0.9887362626578943,
          0.9886997418245326,
          0.9913785950996938,
          0.5768947756331897,
          0.8748119356087354,
          0.7858028037600749,
          0.9213245260662061
         ],
         "yaxis": "y2"
        },
        {
         "alignmentgroup": "True",
         "hovertemplate": "pos=wr<br>metric=%{x}<br>misc_fpts=%{y}<extra></extra>",
         "legendgroup": "wr",
         "marker": {
          "color": "#ab63fa",
          "pattern": {
           "shape": ""
          }
         },
         "name": "wr",
         "offsetgroup": "wr",
         "orientation": "v",
         "showlegend": true,
         "textposition": "auto",
         "type": "bar",
         "x": [
          "passing_cmp",
          "passing_att",
          "passing_pct",
          "passing_yds",
          "passing_y/a",
          "passing_td",
          "passing_int",
          "passing_sacks",
          "rushing_att",
          "rushing_yds",
          "rushing_td",
          "misc_fl",
          "misc_g",
          "misc_fpts",
          "misc_fpts/g",
          "Season",
          "pid",
          "rushing_y/a",
          "rushing_lg",
          "rushing_20+",
          "receiving_rec",
          "receiving_tgt",
          "receiving_yds",
          "receiving_y/r",
          "receiving_td",
          "receiving_lg",
          "receiving_20+",
          "passing_cmp_ewm",
          "passing_att_ewm",
          "passing_pct_ewm",
          "passing_yds_ewm",
          "passing_y/a_ewm",
          "passing_td_ewm",
          "passing_int_ewm",
          "passing_sacks_ewm",
          "rushing_att_ewm",
          "rushing_yds_ewm",
          "rushing_td_ewm",
          "misc_fl_ewm",
          "misc_g_ewm",
          "misc_fpts_ewm",
          "misc_fpts/g_ewm",
          "Season_ewm",
          "pid_ewm",
          "rushing_y/a_ewm",
          "rushing_lg_ewm",
          "rushing_20+_ewm",
          "receiving_rec_ewm",
          "receiving_tgt_ewm",
          "receiving_yds_ewm",
          "receiving_y/r_ewm",
          "receiving_td_ewm",
          "receiving_lg_ewm",
          "receiving_20+_ewm",
          "passing_cmp_sma",
          "passing_att_sma",
          "passing_pct_sma",
          "passing_yds_sma",
          "passing_y/a_sma",
          "passing_td_sma",
          "passing_int_sma",
          "passing_sacks_sma",
          "rushing_att_sma",
          "rushing_yds_sma",
          "rushing_td_sma",
          "misc_fl_sma",
          "misc_g_sma",
          "misc_fpts_sma",
          "misc_fpts/g_sma",
          "Season_sma",
          "pid_sma",
          "rushing_y/a_sma",
          "rushing_lg_sma",
          "rushing_20+_sma",
          "receiving_rec_sma",
          "receiving_tgt_sma",
          "receiving_yds_sma",
          "receiving_y/r_sma",
          "receiving_td_sma",
          "receiving_lg_sma",
          "receiving_20+_sma"
         ],
         "xaxis": "x",
         "y": [
          null,
          null,
          null,
          null,
          null,
          null,
          null,
          null,
          0.38319189975464113,
          0.33991266268158754,
          0.3155197426772783,
          0.39457598291453266,
          0.6938259755519087,
          1,
          0.9680688466418375,
          -6.132767609234346e-14,
          -0.2924122623837465,
          null,
          null,
          null,
          0.9864703356541918,
          0.9793014203229262,
          0.9923116200023261,
          0.6278759711093455,
          0.9203504236016876,
          0.8178032363038243,
          0.9448007843207578,
          null,
          null,
          null,
          null,
          null,
          null,
          null,
          null,
          0.3831918997546411,
          0.33991266268158754,
          0.3155197426772783,
          0.3945759829145327,
          0.6938259755519088,
          0.9999974097819101,
          0.9680773788920316,
          -0.0013026384693891058,
          -0.2924122623837465,
          null,
          null,
          null,
          0.9864703356541918,
          0.9793014203229262,
          0.9923116200023261,
          0.6278759711093455,
          0.9203504236016876,
          0.8178032363038243,
          0.9448007843207578,
          null,
          null,
          null,
          null,
          null,
          null,
          null,
          null,
          0.3837144172817314,
          0.34059076655963716,
          0.315814515851872,
          0.3954901729078942,
          0.6937742203309962,
          0.999991718527349,
          0.9681605113350303,
          0.0004087022888652697,
          -0.29136015809980703,
          null,
          null,
          null,
          0.9864819221467949,
          0.9793105240860958,
          0.9923173836674403,
          0.6281210977258727,
          0.920415168580218,
          0.8175483483754407,
          0.9446604491913838
         ],
         "yaxis": "y"
        }
       ],
       "layout": {
        "annotations": [
         {
          "font": {},
          "showarrow": false,
          "text": "pos=wr",
          "textangle": 90,
          "x": 0.98,
          "xanchor": "left",
          "xref": "paper",
          "y": 0.11375,
          "yanchor": "middle",
          "yref": "paper"
         },
         {
          "font": {},
          "showarrow": false,
          "text": "pos=te",
          "textangle": 90,
          "x": 0.98,
          "xanchor": "left",
          "xref": "paper",
          "y": 0.37124999999999997,
          "yanchor": "middle",
          "yref": "paper"
         },
         {
          "font": {},
          "showarrow": false,
          "text": "pos=rb",
          "textangle": 90,
          "x": 0.98,
          "xanchor": "left",
          "xref": "paper",
          "y": 0.62875,
          "yanchor": "middle",
          "yref": "paper"
         },
         {
          "font": {},
          "showarrow": false,
          "text": "pos=qb",
          "textangle": 90,
          "x": 0.98,
          "xanchor": "left",
          "xref": "paper",
          "y": 0.88625,
          "yanchor": "middle",
          "yref": "paper"
         }
        ],
        "barmode": "relative",
        "height": 800,
        "legend": {
         "title": {
          "text": "pos"
         },
         "tracegroupgap": 0
        },
        "template": {
         "data": {
          "bar": [
           {
            "error_x": {
             "color": "#2a3f5f"
            },
            "error_y": {
             "color": "#2a3f5f"
            },
            "marker": {
             "line": {
              "color": "#E5ECF6",
              "width": 0.5
             },
             "pattern": {
              "fillmode": "overlay",
              "size": 10,
              "solidity": 0.2
             }
            },
            "type": "bar"
           }
          ],
          "barpolar": [
           {
            "marker": {
             "line": {
              "color": "#E5ECF6",
              "width": 0.5
             },
             "pattern": {
              "fillmode": "overlay",
              "size": 10,
              "solidity": 0.2
             }
            },
            "type": "barpolar"
           }
          ],
          "carpet": [
           {
            "aaxis": {
             "endlinecolor": "#2a3f5f",
             "gridcolor": "white",
             "linecolor": "white",
             "minorgridcolor": "white",
             "startlinecolor": "#2a3f5f"
            },
            "baxis": {
             "endlinecolor": "#2a3f5f",
             "gridcolor": "white",
             "linecolor": "white",
             "minorgridcolor": "white",
             "startlinecolor": "#2a3f5f"
            },
            "type": "carpet"
           }
          ],
          "choropleth": [
           {
            "colorbar": {
             "outlinewidth": 0,
             "ticks": ""
            },
            "type": "choropleth"
           }
          ],
          "contour": [
           {
            "colorbar": {
             "outlinewidth": 0,
             "ticks": ""
            },
            "colorscale": [
             [
              0,
              "#0d0887"
             ],
             [
              0.1111111111111111,
              "#46039f"
             ],
             [
              0.2222222222222222,
              "#7201a8"
             ],
             [
              0.3333333333333333,
              "#9c179e"
             ],
             [
              0.4444444444444444,
              "#bd3786"
             ],
             [
              0.5555555555555556,
              "#d8576b"
             ],
             [
              0.6666666666666666,
              "#ed7953"
             ],
             [
              0.7777777777777778,
              "#fb9f3a"
             ],
             [
              0.8888888888888888,
              "#fdca26"
             ],
             [
              1,
              "#f0f921"
             ]
            ],
            "type": "contour"
           }
          ],
          "contourcarpet": [
           {
            "colorbar": {
             "outlinewidth": 0,
             "ticks": ""
            },
            "type": "contourcarpet"
           }
          ],
          "heatmap": [
           {
            "colorbar": {
             "outlinewidth": 0,
             "ticks": ""
            },
            "colorscale": [
             [
              0,
              "#0d0887"
             ],
             [
              0.1111111111111111,
              "#46039f"
             ],
             [
              0.2222222222222222,
              "#7201a8"
             ],
             [
              0.3333333333333333,
              "#9c179e"
             ],
             [
              0.4444444444444444,
              "#bd3786"
             ],
             [
              0.5555555555555556,
              "#d8576b"
             ],
             [
              0.6666666666666666,
              "#ed7953"
             ],
             [
              0.7777777777777778,
              "#fb9f3a"
             ],
             [
              0.8888888888888888,
              "#fdca26"
             ],
             [
              1,
              "#f0f921"
             ]
            ],
            "type": "heatmap"
           }
          ],
          "heatmapgl": [
           {
            "colorbar": {
             "outlinewidth": 0,
             "ticks": ""
            },
            "colorscale": [
             [
              0,
              "#0d0887"
             ],
             [
              0.1111111111111111,
              "#46039f"
             ],
             [
              0.2222222222222222,
              "#7201a8"
             ],
             [
              0.3333333333333333,
              "#9c179e"
             ],
             [
              0.4444444444444444,
              "#bd3786"
             ],
             [
              0.5555555555555556,
              "#d8576b"
             ],
             [
              0.6666666666666666,
              "#ed7953"
             ],
             [
              0.7777777777777778,
              "#fb9f3a"
             ],
             [
              0.8888888888888888,
              "#fdca26"
             ],
             [
              1,
              "#f0f921"
             ]
            ],
            "type": "heatmapgl"
           }
          ],
          "histogram": [
           {
            "marker": {
             "pattern": {
              "fillmode": "overlay",
              "size": 10,
              "solidity": 0.2
             }
            },
            "type": "histogram"
           }
          ],
          "histogram2d": [
           {
            "colorbar": {
             "outlinewidth": 0,
             "ticks": ""
            },
            "colorscale": [
             [
              0,
              "#0d0887"
             ],
             [
              0.1111111111111111,
              "#46039f"
             ],
             [
              0.2222222222222222,
              "#7201a8"
             ],
             [
              0.3333333333333333,
              "#9c179e"
             ],
             [
              0.4444444444444444,
              "#bd3786"
             ],
             [
              0.5555555555555556,
              "#d8576b"
             ],
             [
              0.6666666666666666,
              "#ed7953"
             ],
             [
              0.7777777777777778,
              "#fb9f3a"
             ],
             [
              0.8888888888888888,
              "#fdca26"
             ],
             [
              1,
              "#f0f921"
             ]
            ],
            "type": "histogram2d"
           }
          ],
          "histogram2dcontour": [
           {
            "colorbar": {
             "outlinewidth": 0,
             "ticks": ""
            },
            "colorscale": [
             [
              0,
              "#0d0887"
             ],
             [
              0.1111111111111111,
              "#46039f"
             ],
             [
              0.2222222222222222,
              "#7201a8"
             ],
             [
              0.3333333333333333,
              "#9c179e"
             ],
             [
              0.4444444444444444,
              "#bd3786"
             ],
             [
              0.5555555555555556,
              "#d8576b"
             ],
             [
              0.6666666666666666,
              "#ed7953"
             ],
             [
              0.7777777777777778,
              "#fb9f3a"
             ],
             [
              0.8888888888888888,
              "#fdca26"
             ],
             [
              1,
              "#f0f921"
             ]
            ],
            "type": "histogram2dcontour"
           }
          ],
          "mesh3d": [
           {
            "colorbar": {
             "outlinewidth": 0,
             "ticks": ""
            },
            "type": "mesh3d"
           }
          ],
          "parcoords": [
           {
            "line": {
             "colorbar": {
              "outlinewidth": 0,
              "ticks": ""
             }
            },
            "type": "parcoords"
           }
          ],
          "pie": [
           {
            "automargin": true,
            "type": "pie"
           }
          ],
          "scatter": [
           {
            "fillpattern": {
             "fillmode": "overlay",
             "size": 10,
             "solidity": 0.2
            },
            "type": "scatter"
           }
          ],
          "scatter3d": [
           {
            "line": {
             "colorbar": {
              "outlinewidth": 0,
              "ticks": ""
             }
            },
            "marker": {
             "colorbar": {
              "outlinewidth": 0,
              "ticks": ""
             }
            },
            "type": "scatter3d"
           }
          ],
          "scattercarpet": [
           {
            "marker": {
             "colorbar": {
              "outlinewidth": 0,
              "ticks": ""
             }
            },
            "type": "scattercarpet"
           }
          ],
          "scattergeo": [
           {
            "marker": {
             "colorbar": {
              "outlinewidth": 0,
              "ticks": ""
             }
            },
            "type": "scattergeo"
           }
          ],
          "scattergl": [
           {
            "marker": {
             "colorbar": {
              "outlinewidth": 0,
              "ticks": ""
             }
            },
            "type": "scattergl"
           }
          ],
          "scattermapbox": [
           {
            "marker": {
             "colorbar": {
              "outlinewidth": 0,
              "ticks": ""
             }
            },
            "type": "scattermapbox"
           }
          ],
          "scatterpolar": [
           {
            "marker": {
             "colorbar": {
              "outlinewidth": 0,
              "ticks": ""
             }
            },
            "type": "scatterpolar"
           }
          ],
          "scatterpolargl": [
           {
            "marker": {
             "colorbar": {
              "outlinewidth": 0,
              "ticks": ""
             }
            },
            "type": "scatterpolargl"
           }
          ],
          "scatterternary": [
           {
            "marker": {
             "colorbar": {
              "outlinewidth": 0,
              "ticks": ""
             }
            },
            "type": "scatterternary"
           }
          ],
          "surface": [
           {
            "colorbar": {
             "outlinewidth": 0,
             "ticks": ""
            },
            "colorscale": [
             [
              0,
              "#0d0887"
             ],
             [
              0.1111111111111111,
              "#46039f"
             ],
             [
              0.2222222222222222,
              "#7201a8"
             ],
             [
              0.3333333333333333,
              "#9c179e"
             ],
             [
              0.4444444444444444,
              "#bd3786"
             ],
             [
              0.5555555555555556,
              "#d8576b"
             ],
             [
              0.6666666666666666,
              "#ed7953"
             ],
             [
              0.7777777777777778,
              "#fb9f3a"
             ],
             [
              0.8888888888888888,
              "#fdca26"
             ],
             [
              1,
              "#f0f921"
             ]
            ],
            "type": "surface"
           }
          ],
          "table": [
           {
            "cells": {
             "fill": {
              "color": "#EBF0F8"
             },
             "line": {
              "color": "white"
             }
            },
            "header": {
             "fill": {
              "color": "#C8D4E3"
             },
             "line": {
              "color": "white"
             }
            },
            "type": "table"
           }
          ]
         },
         "layout": {
          "annotationdefaults": {
           "arrowcolor": "#2a3f5f",
           "arrowhead": 0,
           "arrowwidth": 1
          },
          "autotypenumbers": "strict",
          "coloraxis": {
           "colorbar": {
            "outlinewidth": 0,
            "ticks": ""
           }
          },
          "colorscale": {
           "diverging": [
            [
             0,
             "#8e0152"
            ],
            [
             0.1,
             "#c51b7d"
            ],
            [
             0.2,
             "#de77ae"
            ],
            [
             0.3,
             "#f1b6da"
            ],
            [
             0.4,
             "#fde0ef"
            ],
            [
             0.5,
             "#f7f7f7"
            ],
            [
             0.6,
             "#e6f5d0"
            ],
            [
             0.7,
             "#b8e186"
            ],
            [
             0.8,
             "#7fbc41"
            ],
            [
             0.9,
             "#4d9221"
            ],
            [
             1,
             "#276419"
            ]
           ],
           "sequential": [
            [
             0,
             "#0d0887"
            ],
            [
             0.1111111111111111,
             "#46039f"
            ],
            [
             0.2222222222222222,
             "#7201a8"
            ],
            [
             0.3333333333333333,
             "#9c179e"
            ],
            [
             0.4444444444444444,
             "#bd3786"
            ],
            [
             0.5555555555555556,
             "#d8576b"
            ],
            [
             0.6666666666666666,
             "#ed7953"
            ],
            [
             0.7777777777777778,
             "#fb9f3a"
            ],
            [
             0.8888888888888888,
             "#fdca26"
            ],
            [
             1,
             "#f0f921"
            ]
           ],
           "sequentialminus": [
            [
             0,
             "#0d0887"
            ],
            [
             0.1111111111111111,
             "#46039f"
            ],
            [
             0.2222222222222222,
             "#7201a8"
            ],
            [
             0.3333333333333333,
             "#9c179e"
            ],
            [
             0.4444444444444444,
             "#bd3786"
            ],
            [
             0.5555555555555556,
             "#d8576b"
            ],
            [
             0.6666666666666666,
             "#ed7953"
            ],
            [
             0.7777777777777778,
             "#fb9f3a"
            ],
            [
             0.8888888888888888,
             "#fdca26"
            ],
            [
             1,
             "#f0f921"
            ]
           ]
          },
          "colorway": [
           "#636efa",
           "#EF553B",
           "#00cc96",
           "#ab63fa",
           "#FFA15A",
           "#19d3f3",
           "#FF6692",
           "#B6E880",
           "#FF97FF",
           "#FECB52"
          ],
          "font": {
           "color": "#2a3f5f"
          },
          "geo": {
           "bgcolor": "white",
           "lakecolor": "white",
           "landcolor": "#E5ECF6",
           "showlakes": true,
           "showland": true,
           "subunitcolor": "white"
          },
          "hoverlabel": {
           "align": "left"
          },
          "hovermode": "closest",
          "mapbox": {
           "style": "light"
          },
          "paper_bgcolor": "white",
          "plot_bgcolor": "#E5ECF6",
          "polar": {
           "angularaxis": {
            "gridcolor": "white",
            "linecolor": "white",
            "ticks": ""
           },
           "bgcolor": "#E5ECF6",
           "radialaxis": {
            "gridcolor": "white",
            "linecolor": "white",
            "ticks": ""
           }
          },
          "scene": {
           "xaxis": {
            "backgroundcolor": "#E5ECF6",
            "gridcolor": "white",
            "gridwidth": 2,
            "linecolor": "white",
            "showbackground": true,
            "ticks": "",
            "zerolinecolor": "white"
           },
           "yaxis": {
            "backgroundcolor": "#E5ECF6",
            "gridcolor": "white",
            "gridwidth": 2,
            "linecolor": "white",
            "showbackground": true,
            "ticks": "",
            "zerolinecolor": "white"
           },
           "zaxis": {
            "backgroundcolor": "#E5ECF6",
            "gridcolor": "white",
            "gridwidth": 2,
            "linecolor": "white",
            "showbackground": true,
            "ticks": "",
            "zerolinecolor": "white"
           }
          },
          "shapedefaults": {
           "line": {
            "color": "#2a3f5f"
           }
          },
          "ternary": {
           "aaxis": {
            "gridcolor": "white",
            "linecolor": "white",
            "ticks": ""
           },
           "baxis": {
            "gridcolor": "white",
            "linecolor": "white",
            "ticks": ""
           },
           "bgcolor": "#E5ECF6",
           "caxis": {
            "gridcolor": "white",
            "linecolor": "white",
            "ticks": ""
           }
          },
          "title": {
           "x": 0.05
          },
          "xaxis": {
           "automargin": true,
           "gridcolor": "white",
           "linecolor": "white",
           "ticks": "",
           "title": {
            "standoff": 15
           },
           "zerolinecolor": "white",
           "zerolinewidth": 2
          },
          "yaxis": {
           "automargin": true,
           "gridcolor": "white",
           "linecolor": "white",
           "ticks": "",
           "title": {
            "standoff": 15
           },
           "zerolinecolor": "white",
           "zerolinewidth": 2
          }
         }
        },
        "title": {
         "text": "Corr between features and fantasy points"
        },
        "xaxis": {
         "anchor": "y",
         "domain": [
          0,
          0.98
         ],
         "title": {
          "text": "metric"
         }
        },
        "xaxis2": {
         "anchor": "y2",
         "domain": [
          0,
          0.98
         ],
         "matches": "x",
         "showticklabels": false
        },
        "xaxis3": {
         "anchor": "y3",
         "domain": [
          0,
          0.98
         ],
         "matches": "x",
         "showticklabels": false
        },
        "xaxis4": {
         "anchor": "y4",
         "domain": [
          0,
          0.98
         ],
         "matches": "x",
         "showticklabels": false
        },
        "yaxis": {
         "anchor": "x",
         "domain": [
          0,
          0.2275
         ],
         "title": {
          "text": "misc_fpts"
         }
        },
        "yaxis2": {
         "anchor": "x2",
         "domain": [
          0.2575,
          0.485
         ],
         "matches": "y",
         "title": {
          "text": "misc_fpts"
         }
        },
        "yaxis3": {
         "anchor": "x3",
         "domain": [
          0.515,
          0.7425
         ],
         "matches": "y",
         "title": {
          "text": "misc_fpts"
         }
        },
        "yaxis4": {
         "anchor": "x4",
         "domain": [
          0.7725,
          1
         ],
         "matches": "y",
         "title": {
          "text": "misc_fpts"
         }
        }
       }
      }
     },
     "metadata": {},
     "output_type": "display_data"
    }
   ],
   "source": [
    "px.bar(\n",
    "    correlations,\n",
    "    x=\"metric\",\n",
    "    y=\"misc_fpts\",\n",
    "    color=\"pos\",\n",
    "    facet_row=\"pos\",\n",
    "    height=800,\n",
    "    title=\"Corr between features and fantasy points\",\n",
    ")"
   ]
  },
  {
   "cell_type": "markdown",
   "metadata": {},
   "source": [
    "#### pipeline\n",
    "1. no look ahead (train for 2021, 2022, 2023)\n",
    "2. RF, ridge, LASSO, XGB?"
   ]
  },
  {
   "cell_type": "code",
   "execution_count": 14,
   "metadata": {},
   "outputs": [],
   "source": [
    "from sklearn.metrics import r2_score, mean_absolute_error, mean_squared_error\n",
    "from sklearn.linear_model import Ridge, Lasso, LinearRegression\n",
    "from sklearn.model_selection import train_test_split"
   ]
  },
  {
   "cell_type": "code",
   "execution_count": 15,
   "metadata": {},
   "outputs": [],
   "source": [
    "def evaluate(y_test, y_pred):\n",
    "    mae = mean_absolute_error(y_test, y_pred)\n",
    "    mse = mean_squared_error(y_test, y_pred)\n",
    "    r2 = r2_score(y_test, y_pred)\n",
    "\n",
    "    return [mae, mse, r2]"
   ]
  },
  {
   "cell_type": "code",
   "execution_count": 35,
   "metadata": {},
   "outputs": [],
   "source": [
    "X = dat[\n",
    "    [\"player\", \"pid\", \"Season\", \"misc_fpts\", \"pos\"]\n",
    "    + [col for col in dat.columns if col[-4:] in [\"_sma\", \"_ewm\"]]\n",
    "]"
   ]
  },
  {
   "cell_type": "code",
   "execution_count": 36,
   "metadata": {},
   "outputs": [],
   "source": [
    "import logging\n",
    "\n",
    "logger = logging.getLogger(__name__)\n",
    "from sklearn.preprocessing import OrdinalEncoder\n",
    "import xgboost as xgb\n"
   ]
  },
  {
   "cell_type": "code",
   "execution_count": 37,
   "metadata": {},
   "outputs": [],
   "source": [
    "# set up RF\n",
    "from sklearn.ensemble import RandomForestRegressor\n",
    "from sklearn.model_selection import RandomizedSearchCV\n",
    "\n",
    "random_grid = {\n",
    "    \"n_estimators\": [300, 500, 700],\n",
    "    \"max_features\": [\"sqrt\"],\n",
    "    \"max_depth\": [2, 5, 10, 20],\n",
    "    \"min_samples_split\": [2, 5, 10],\n",
    "}\n",
    "\n",
    "rf = RandomForestRegressor()\n",
    "rf_random = RandomizedSearchCV(\n",
    "    estimator=rf,\n",
    "    param_distributions=random_grid,\n",
    "    n_iter=100,\n",
    "    cv=5,\n",
    "    verbose=99,\n",
    "    random_state=21,\n",
    "    n_jobs=-1,\n",
    ")\n",
    "\n",
    "rf_opt = RandomForestRegressor(\n",
    "    max_depth=20,\n",
    "    max_features=\"sqrt\",\n",
    "    min_samples_split=5,\n",
    "    n_estimators=700,\n",
    "    random_state=0,\n",
    ")\n"
   ]
  },
  {
   "cell_type": "code",
   "execution_count": 38,
   "metadata": {},
   "outputs": [],
   "source": [
    "enc = OrdinalEncoder()"
   ]
  },
  {
   "cell_type": "code",
   "execution_count": 39,
   "metadata": {},
   "outputs": [],
   "source": [
    "from sklearn.preprocessing import LabelEncoder\n",
    "\n",
    "le = LabelEncoder()\n"
   ]
  },
  {
   "cell_type": "code",
   "execution_count": 40,
   "metadata": {},
   "outputs": [
    {
     "name": "stdout",
     "output_type": "stream",
     "text": [
      "calculating for 2019...\n",
      "calculating for ridge\n",
      "[0.2096476759283043, 0.18270920771681376, 0.9999709554752617]\n",
      "calculating for lasso\n",
      "[0.15708525345617533, 0.10859896577334688, 0.9999827364729595]\n",
      "calculating for ols\n",
      "[0.2095003518414477, 0.1825591041057583, 0.99997097933661]\n",
      "calculating for rf\n",
      "[3.1674476432943672, 104.60555072531724, 0.9833712895821305]\n",
      "calculating for 2020...\n",
      "calculating for ridge\n",
      "[0.1307627018851323, 0.0977421219825542, 0.9999802726367888]\n",
      "calculating for lasso\n",
      "[0.16070065795164054, 5.391533360922916, 0.9989118229201585]\n",
      "calculating for ols\n",
      "[0.12494310692115179, 0.08214605844358942, 0.999983420401579]\n",
      "calculating for rf\n",
      "[1.4423165567613545, 23.529597541697083, 0.9952510043008639]\n",
      "calculating for 2021...\n",
      "calculating for ridge\n",
      "[0.22517891426652353, 1.9143507772937918, 0.9996350643481978]\n",
      "calculating for lasso\n",
      "[0.12531644858783336, 3.1583817720219565, 0.9993979127941002]\n",
      "calculating for ols\n",
      "[0.22670570219649144, 1.890258813611387, 0.9996396570365254]\n",
      "calculating for rf\n",
      "[1.2362963826079318, 19.4848545666414, 0.9962855720143412]\n",
      "calculating for 2022...\n",
      "calculating for ridge\n",
      "[0.25732278876014875, 2.014540497180483, 0.9996638969259373]\n",
      "calculating for lasso\n",
      "[0.1494392189395348, 3.173580426306448, 0.9994705243510568]\n",
      "calculating for ols\n",
      "[0.25937048196659424, 1.9900483656705996, 0.9996679831583571]\n",
      "calculating for rf\n",
      "[1.1783777002511306, 15.633439808334062, 0.9973917391161358]\n",
      "calculating for 2023...\n",
      "calculating for ridge\n",
      "[0.26846496963748445, 1.4315824074022996, 0.9997501782694088]\n",
      "calculating for lasso\n",
      "[0.1031264212764204, 2.453208069185294, 0.9995718970265525]\n",
      "calculating for ols\n",
      "[0.2696902365249561, 1.4296945638024536, 0.999750507712096]\n",
      "calculating for rf\n",
      "[0.8635409522450462, 16.55665624887597, 0.9971107408867902]\n"
     ]
    }
   ],
   "source": [
    "res = pd.DataFrame()\n",
    "\n",
    "for season in range(2019, 2024):\n",
    "    print(f\"calculating for {season}...\")\n",
    "\n",
    "    X_t = X.query(f\"Season <= {season}\").fillna(0)\n",
    "    X_t[\"pos\"] = enc.fit_transform(X_t[[\"pos\"]])\n",
    "\n",
    "    X_ = X_t.drop(\n",
    "        columns=[\n",
    "            \"player\",\n",
    "            \"Season\",\n",
    "            \"misc_fpts\",\n",
    "            \"Season_ewm\",\n",
    "            \"Season_sma\",\n",
    "            \"pid_ewm\",\n",
    "            \"pid_sma\",\n",
    "        ]\n",
    "    )\n",
    "    y_ = X_t[\"misc_fpts\"]\n",
    "\n",
    "    X_train, X_test, y_train, y_test = train_test_split(\n",
    "        X_, y_, random_state=0, test_size=0.3\n",
    "    )\n",
    "\n",
    "    # train models\n",
    "\n",
    "    for modname, mod in [\n",
    "        (\"ridge\", Ridge(alpha=1.0)),\n",
    "        (\"lasso\", Lasso(alpha=1.0)),\n",
    "        (\"ols\", LinearRegression()),\n",
    "        (\"rf\", rf_opt),\n",
    "        # (\"xgb\", xgb.XGBClassifier(tree_method=\"hist\")),\n",
    "    ]:\n",
    "        if modname == \"xgb\":\n",
    "            y_train = le.fit_transform(y_train)\n",
    "            y_test = le.fit_transform(y_test)\n",
    "\n",
    "        print(f\"calculating for {modname}\")\n",
    "        clf = mod\n",
    "        clf.fit(X_train, y_train)\n",
    "\n",
    "        y_pred = clf.predict(X_test)\n",
    "\n",
    "        err = evaluate(y_test, y_pred)\n",
    "        err_df = pd.DataFrame([err], columns=[\"mae\", \"mse\", \"r2\"])\n",
    "\n",
    "        print(err)\n",
    "\n",
    "        err_df[\"model_name\"] = modname\n",
    "        err_df[\"season\"] = season\n",
    "        res = pd.concat([res, err_df])\n"
   ]
  },
  {
   "cell_type": "code",
   "execution_count": 22,
   "metadata": {},
   "outputs": [],
   "source": [
    "# test vs projections\n",
    "projs = pd.read_csv(\"data/offensive_projections.csv\")"
   ]
  },
  {
   "cell_type": "code",
   "execution_count": 23,
   "metadata": {},
   "outputs": [],
   "source": [
    "datp = dat[[\"pid\", \"Season\", \"pos\", \"misc_fpts\"]].merge(\n",
    "    projs[[\"pid\", \"Season\", \"misc_fpts\"]],\n",
    "    on=[\"pid\", \"Season\"],\n",
    "    how=\"inner\",\n",
    "    suffixes=[\"\", \"_proj\"],\n",
    ")"
   ]
  },
  {
   "cell_type": "code",
   "execution_count": 28,
   "metadata": {},
   "outputs": [],
   "source": [
    "projerr = pd.DataFrame()\n",
    "\n",
    "for season in range(2019, 2024):\n",
    "    datp_ = datp.query(f\"Season <= {season}\")\n",
    "\n",
    "    y_pred = datp_.misc_fpts_proj.to_list()\n",
    "    y_test = datp_.misc_fpts.to_list()\n",
    "\n",
    "    err = evaluate(y_test, y_pred)\n",
    "    err_df = pd.DataFrame([err], columns=[\"mae\", \"mse\", \"r2\"])\n",
    "\n",
    "    err_df[\"season\"] = season\n",
    "\n",
    "    projerr = pd.concat([projerr, err_df])"
   ]
  },
  {
   "cell_type": "code",
   "execution_count": 29,
   "metadata": {},
   "outputs": [
    {
     "data": {
      "text/html": [
       "<div>\n",
       "<style scoped>\n",
       "    .dataframe tbody tr th:only-of-type {\n",
       "        vertical-align: middle;\n",
       "    }\n",
       "\n",
       "    .dataframe tbody tr th {\n",
       "        vertical-align: top;\n",
       "    }\n",
       "\n",
       "    .dataframe thead th {\n",
       "        text-align: right;\n",
       "    }\n",
       "</style>\n",
       "<table border=\"1\" class=\"dataframe\">\n",
       "  <thead>\n",
       "    <tr style=\"text-align: right;\">\n",
       "      <th></th>\n",
       "      <th>mae</th>\n",
       "      <th>mse</th>\n",
       "      <th>r2</th>\n",
       "      <th>season</th>\n",
       "    </tr>\n",
       "  </thead>\n",
       "  <tbody>\n",
       "    <tr>\n",
       "      <th>0</th>\n",
       "      <td>56.027073</td>\n",
       "      <td>6501.777732</td>\n",
       "      <td>0.259348</td>\n",
       "      <td>2019</td>\n",
       "    </tr>\n",
       "    <tr>\n",
       "      <th>0</th>\n",
       "      <td>54.066426</td>\n",
       "      <td>6003.549349</td>\n",
       "      <td>0.306118</td>\n",
       "      <td>2020</td>\n",
       "    </tr>\n",
       "    <tr>\n",
       "      <th>0</th>\n",
       "      <td>52.857037</td>\n",
       "      <td>5748.448407</td>\n",
       "      <td>0.328028</td>\n",
       "      <td>2021</td>\n",
       "    </tr>\n",
       "    <tr>\n",
       "      <th>0</th>\n",
       "      <td>51.176810</td>\n",
       "      <td>5442.751611</td>\n",
       "      <td>0.350575</td>\n",
       "      <td>2022</td>\n",
       "    </tr>\n",
       "    <tr>\n",
       "      <th>0</th>\n",
       "      <td>42.093522</td>\n",
       "      <td>4136.535471</td>\n",
       "      <td>0.488646</td>\n",
       "      <td>2023</td>\n",
       "    </tr>\n",
       "  </tbody>\n",
       "</table>\n",
       "</div>"
      ],
      "text/plain": [
       "         mae          mse        r2  season\n",
       "0  56.027073  6501.777732  0.259348    2019\n",
       "0  54.066426  6003.549349  0.306118    2020\n",
       "0  52.857037  5748.448407  0.328028    2021\n",
       "0  51.176810  5442.751611  0.350575    2022\n",
       "0  42.093522  4136.535471  0.488646    2023"
      ]
     },
     "execution_count": 29,
     "metadata": {},
     "output_type": "execute_result"
    }
   ],
   "source": [
    "projerr"
   ]
  },
  {
   "cell_type": "code",
   "execution_count": 30,
   "metadata": {},
   "outputs": [
    {
     "data": {
      "text/html": [
       "<div>\n",
       "<style scoped>\n",
       "    .dataframe tbody tr th:only-of-type {\n",
       "        vertical-align: middle;\n",
       "    }\n",
       "\n",
       "    .dataframe tbody tr th {\n",
       "        vertical-align: top;\n",
       "    }\n",
       "\n",
       "    .dataframe thead th {\n",
       "        text-align: right;\n",
       "    }\n",
       "</style>\n",
       "<table border=\"1\" class=\"dataframe\">\n",
       "  <thead>\n",
       "    <tr style=\"text-align: right;\">\n",
       "      <th></th>\n",
       "      <th>mae</th>\n",
       "      <th>mse</th>\n",
       "      <th>r2</th>\n",
       "      <th>model_name</th>\n",
       "      <th>season</th>\n",
       "    </tr>\n",
       "  </thead>\n",
       "  <tbody>\n",
       "    <tr>\n",
       "      <th>0</th>\n",
       "      <td>0.013852</td>\n",
       "      <td>0.001044</td>\n",
       "      <td>0.999963</td>\n",
       "      <td>ridge</td>\n",
       "      <td>2019</td>\n",
       "    </tr>\n",
       "    <tr>\n",
       "      <th>0</th>\n",
       "      <td>0.342252</td>\n",
       "      <td>0.443361</td>\n",
       "      <td>0.984140</td>\n",
       "      <td>lasso</td>\n",
       "      <td>2019</td>\n",
       "    </tr>\n",
       "    <tr>\n",
       "      <th>0</th>\n",
       "      <td>0.013568</td>\n",
       "      <td>0.001015</td>\n",
       "      <td>0.999964</td>\n",
       "      <td>ols</td>\n",
       "      <td>2019</td>\n",
       "    </tr>\n",
       "    <tr>\n",
       "      <th>0</th>\n",
       "      <td>0.409680</td>\n",
       "      <td>1.047254</td>\n",
       "      <td>0.962537</td>\n",
       "      <td>rf</td>\n",
       "      <td>2019</td>\n",
       "    </tr>\n",
       "    <tr>\n",
       "      <th>0</th>\n",
       "      <td>0.008619</td>\n",
       "      <td>0.000511</td>\n",
       "      <td>0.999979</td>\n",
       "      <td>ridge</td>\n",
       "      <td>2020</td>\n",
       "    </tr>\n",
       "    <tr>\n",
       "      <th>0</th>\n",
       "      <td>0.295594</td>\n",
       "      <td>0.337794</td>\n",
       "      <td>0.985955</td>\n",
       "      <td>lasso</td>\n",
       "      <td>2020</td>\n",
       "    </tr>\n",
       "    <tr>\n",
       "      <th>0</th>\n",
       "      <td>0.007908</td>\n",
       "      <td>0.000345</td>\n",
       "      <td>0.999986</td>\n",
       "      <td>ols</td>\n",
       "      <td>2020</td>\n",
       "    </tr>\n",
       "    <tr>\n",
       "      <th>0</th>\n",
       "      <td>0.189455</td>\n",
       "      <td>0.196167</td>\n",
       "      <td>0.991844</td>\n",
       "      <td>rf</td>\n",
       "      <td>2020</td>\n",
       "    </tr>\n",
       "    <tr>\n",
       "      <th>0</th>\n",
       "      <td>0.014394</td>\n",
       "      <td>0.007527</td>\n",
       "      <td>0.999690</td>\n",
       "      <td>ridge</td>\n",
       "      <td>2021</td>\n",
       "    </tr>\n",
       "    <tr>\n",
       "      <th>0</th>\n",
       "      <td>0.330037</td>\n",
       "      <td>0.467510</td>\n",
       "      <td>0.980717</td>\n",
       "      <td>lasso</td>\n",
       "      <td>2021</td>\n",
       "    </tr>\n",
       "    <tr>\n",
       "      <th>0</th>\n",
       "      <td>0.014473</td>\n",
       "      <td>0.007432</td>\n",
       "      <td>0.999693</td>\n",
       "      <td>ols</td>\n",
       "      <td>2021</td>\n",
       "    </tr>\n",
       "    <tr>\n",
       "      <th>0</th>\n",
       "      <td>0.173178</td>\n",
       "      <td>0.241179</td>\n",
       "      <td>0.990052</td>\n",
       "      <td>rf</td>\n",
       "      <td>2021</td>\n",
       "    </tr>\n",
       "    <tr>\n",
       "      <th>0</th>\n",
       "      <td>0.016522</td>\n",
       "      <td>0.008028</td>\n",
       "      <td>0.999721</td>\n",
       "      <td>ridge</td>\n",
       "      <td>2022</td>\n",
       "    </tr>\n",
       "    <tr>\n",
       "      <th>0</th>\n",
       "      <td>0.334467</td>\n",
       "      <td>0.460095</td>\n",
       "      <td>0.983988</td>\n",
       "      <td>lasso</td>\n",
       "      <td>2022</td>\n",
       "    </tr>\n",
       "    <tr>\n",
       "      <th>0</th>\n",
       "      <td>0.016577</td>\n",
       "      <td>0.007937</td>\n",
       "      <td>0.999724</td>\n",
       "      <td>ols</td>\n",
       "      <td>2022</td>\n",
       "    </tr>\n",
       "    <tr>\n",
       "      <th>0</th>\n",
       "      <td>0.137104</td>\n",
       "      <td>0.193903</td>\n",
       "      <td>0.993252</td>\n",
       "      <td>rf</td>\n",
       "      <td>2022</td>\n",
       "    </tr>\n",
       "    <tr>\n",
       "      <th>0</th>\n",
       "      <td>0.017210</td>\n",
       "      <td>0.005756</td>\n",
       "      <td>0.999780</td>\n",
       "      <td>ridge</td>\n",
       "      <td>2023</td>\n",
       "    </tr>\n",
       "    <tr>\n",
       "      <th>0</th>\n",
       "      <td>0.294461</td>\n",
       "      <td>0.355690</td>\n",
       "      <td>0.986419</td>\n",
       "      <td>lasso</td>\n",
       "      <td>2023</td>\n",
       "    </tr>\n",
       "    <tr>\n",
       "      <th>0</th>\n",
       "      <td>0.017267</td>\n",
       "      <td>0.005751</td>\n",
       "      <td>0.999780</td>\n",
       "      <td>ols</td>\n",
       "      <td>2023</td>\n",
       "    </tr>\n",
       "    <tr>\n",
       "      <th>0</th>\n",
       "      <td>0.107382</td>\n",
       "      <td>0.188659</td>\n",
       "      <td>0.992796</td>\n",
       "      <td>rf</td>\n",
       "      <td>2023</td>\n",
       "    </tr>\n",
       "  </tbody>\n",
       "</table>\n",
       "</div>"
      ],
      "text/plain": [
       "        mae       mse        r2 model_name  season\n",
       "0  0.013852  0.001044  0.999963      ridge    2019\n",
       "0  0.342252  0.443361  0.984140      lasso    2019\n",
       "0  0.013568  0.001015  0.999964        ols    2019\n",
       "0  0.409680  1.047254  0.962537         rf    2019\n",
       "0  0.008619  0.000511  0.999979      ridge    2020\n",
       "0  0.295594  0.337794  0.985955      lasso    2020\n",
       "0  0.007908  0.000345  0.999986        ols    2020\n",
       "0  0.189455  0.196167  0.991844         rf    2020\n",
       "0  0.014394  0.007527  0.999690      ridge    2021\n",
       "0  0.330037  0.467510  0.980717      lasso    2021\n",
       "0  0.014473  0.007432  0.999693        ols    2021\n",
       "0  0.173178  0.241179  0.990052         rf    2021\n",
       "0  0.016522  0.008028  0.999721      ridge    2022\n",
       "0  0.334467  0.460095  0.983988      lasso    2022\n",
       "0  0.016577  0.007937  0.999724        ols    2022\n",
       "0  0.137104  0.193903  0.993252         rf    2022\n",
       "0  0.017210  0.005756  0.999780      ridge    2023\n",
       "0  0.294461  0.355690  0.986419      lasso    2023\n",
       "0  0.017267  0.005751  0.999780        ols    2023\n",
       "0  0.107382  0.188659  0.992796         rf    2023"
      ]
     },
     "execution_count": 30,
     "metadata": {},
     "output_type": "execute_result"
    }
   ],
   "source": [
    "res"
   ]
  },
  {
   "cell_type": "code",
   "execution_count": 46,
   "metadata": {},
   "outputs": [
    {
     "name": "stdout",
     "output_type": "stream",
     "text": [
      "calculating for ridge\n",
      "[0.26846496963748445, 1.4315824074022996, 0.9997501782694088]\n",
      "calculating for lasso\n",
      "[0.1031264212764204, 2.453208069185294, 0.9995718970265525]\n",
      "calculating for ols\n",
      "[0.2696902365249561, 1.4296945638024536, 0.999750507712096]\n",
      "calculating for rf\n",
      "[0.8635409522450462, 16.55665624887597, 0.9971107408867902]\n"
     ]
    }
   ],
   "source": [
    "res = pd.DataFrame()\n",
    "est_pts = pd.DataFrame()\n",
    "\n",
    "season = 2023\n",
    "\n",
    "# print(f\"calculating for {season}...\")\n",
    "\n",
    "X_t = X.query(f\"Season <= {season}\").fillna(0)\n",
    "X_t[\"pos\"] = enc.fit_transform(X_t[[\"pos\"]])\n",
    "\n",
    "X_ = X_t.drop(\n",
    "    columns=[\n",
    "        \"player\",\n",
    "        \"Season\",\n",
    "        \"misc_fpts\",\n",
    "        \"Season_ewm\",\n",
    "        \"Season_sma\",\n",
    "        \"pid_ewm\",\n",
    "        \"pid_sma\",\n",
    "    ]\n",
    ")\n",
    "y_ = X_t[\"misc_fpts\"]\n",
    "\n",
    "X_train, X_test, y_train, y_test = train_test_split(\n",
    "    X_, y_, random_state=0, test_size=0.3\n",
    ")\n",
    "\n",
    "X_2024 = X.query(f\"Season == 2024\").fillna(0).drop(\n",
    "    columns=[\n",
    "        \"player\",\n",
    "        \"Season\",\n",
    "        \"misc_fpts\",\n",
    "        \"Season_ewm\",\n",
    "        \"Season_sma\",\n",
    "        \"pid_ewm\",\n",
    "        \"pid_sma\",\n",
    "    ]\n",
    ")\n",
    "\n",
    "X_2024[\"pos\"] = enc.fit_transform(X_2024[[\"pos\"]])\n",
    "\n",
    "\n",
    "# train models\n",
    "\n",
    "for modname, mod in [\n",
    "    (\"ridge\", Ridge(alpha=1.0)),\n",
    "    (\"lasso\", Lasso(alpha=1.0)),\n",
    "    (\"ols\", LinearRegression()),\n",
    "    (\"rf\", rf_opt),\n",
    "    # (\"xgb\", xgb.XGBClassifier(tree_method=\"hist\")),\n",
    "]:\n",
    "    if modname == \"xgb\":\n",
    "        y_train = le.fit_transform(y_train)\n",
    "        y_test = le.fit_transform(y_test)\n",
    "\n",
    "    print(f\"calculating for {modname}\")\n",
    "    clf = mod\n",
    "    clf.fit(X_train, y_train)\n",
    "\n",
    "    y_pred = clf.predict(X_test)\n",
    "\n",
    "    err = evaluate(y_test, y_pred)\n",
    "    err_df = pd.DataFrame([err], columns=[\"mae\", \"mse\", \"r2\"])\n",
    "\n",
    "    print(err)\n",
    "\n",
    "    err_df[\"model_name\"] = modname\n",
    "    err_df[\"season\"] = season\n",
    "\n",
    "    y_pred_2024 = pd.DataFrame(clf.predict(X_2024), columns = ['fpts_pred'])\n",
    "    y_pred_2024['model_name'] = modname\n",
    "\n",
    "    res = pd.concat([res, err_df])\n",
    "\n",
    "    est_pts = pd.concat([est_pts, y_pred_2024])\n"
   ]
  },
  {
   "cell_type": "code",
   "execution_count": 53,
   "metadata": {},
   "outputs": [],
   "source": [
    "est_pts_ = est_pts.reset_index().pivot_table(index='index', columns='model_name', values='fpts_pred')"
   ]
  },
  {
   "cell_type": "code",
   "execution_count": 66,
   "metadata": {},
   "outputs": [
    {
     "data": {
      "text/html": [
       "<div>\n",
       "<style scoped>\n",
       "    .dataframe tbody tr th:only-of-type {\n",
       "        vertical-align: middle;\n",
       "    }\n",
       "\n",
       "    .dataframe tbody tr th {\n",
       "        vertical-align: top;\n",
       "    }\n",
       "\n",
       "    .dataframe thead th {\n",
       "        text-align: right;\n",
       "    }\n",
       "</style>\n",
       "<table border=\"1\" class=\"dataframe\">\n",
       "  <thead>\n",
       "    <tr style=\"text-align: right;\">\n",
       "      <th>model_name</th>\n",
       "      <th>lasso</th>\n",
       "      <th>ols</th>\n",
       "      <th>rf</th>\n",
       "      <th>ridge</th>\n",
       "    </tr>\n",
       "    <tr>\n",
       "      <th>index</th>\n",
       "      <th></th>\n",
       "      <th></th>\n",
       "      <th></th>\n",
       "      <th></th>\n",
       "    </tr>\n",
       "  </thead>\n",
       "  <tbody>\n",
       "    <tr>\n",
       "      <th>0</th>\n",
       "      <td>289.526548</td>\n",
       "      <td>289.063789</td>\n",
       "      <td>288.354296</td>\n",
       "      <td>289.064135</td>\n",
       "    </tr>\n",
       "    <tr>\n",
       "      <th>1</th>\n",
       "      <td>60.614354</td>\n",
       "      <td>60.455730</td>\n",
       "      <td>60.354214</td>\n",
       "      <td>60.459152</td>\n",
       "    </tr>\n",
       "    <tr>\n",
       "      <th>2</th>\n",
       "      <td>-0.004305</td>\n",
       "      <td>-0.009750</td>\n",
       "      <td>-0.000034</td>\n",
       "      <td>-0.009788</td>\n",
       "    </tr>\n",
       "    <tr>\n",
       "      <th>3</th>\n",
       "      <td>117.657398</td>\n",
       "      <td>117.000441</td>\n",
       "      <td>117.747178</td>\n",
       "      <td>117.004988</td>\n",
       "    </tr>\n",
       "    <tr>\n",
       "      <th>4</th>\n",
       "      <td>0.805871</td>\n",
       "      <td>0.656989</td>\n",
       "      <td>0.912772</td>\n",
       "      <td>0.659277</td>\n",
       "    </tr>\n",
       "    <tr>\n",
       "      <th>...</th>\n",
       "      <td>...</td>\n",
       "      <td>...</td>\n",
       "      <td>...</td>\n",
       "      <td>...</td>\n",
       "    </tr>\n",
       "    <tr>\n",
       "      <th>1077</th>\n",
       "      <td>-0.003833</td>\n",
       "      <td>-0.007089</td>\n",
       "      <td>-0.000034</td>\n",
       "      <td>-0.007910</td>\n",
       "    </tr>\n",
       "    <tr>\n",
       "      <th>1078</th>\n",
       "      <td>-0.003833</td>\n",
       "      <td>-0.009822</td>\n",
       "      <td>-0.000028</td>\n",
       "      <td>-0.009086</td>\n",
       "    </tr>\n",
       "    <tr>\n",
       "      <th>1079</th>\n",
       "      <td>206.434345</td>\n",
       "      <td>206.921339</td>\n",
       "      <td>207.509555</td>\n",
       "      <td>206.919416</td>\n",
       "    </tr>\n",
       "    <tr>\n",
       "      <th>1080</th>\n",
       "      <td>78.123430</td>\n",
       "      <td>77.725333</td>\n",
       "      <td>80.440843</td>\n",
       "      <td>77.728227</td>\n",
       "    </tr>\n",
       "    <tr>\n",
       "      <th>1081</th>\n",
       "      <td>3.097753</td>\n",
       "      <td>2.894389</td>\n",
       "      <td>3.143875</td>\n",
       "      <td>2.894256</td>\n",
       "    </tr>\n",
       "  </tbody>\n",
       "</table>\n",
       "<p>1082 rows × 4 columns</p>\n",
       "</div>"
      ],
      "text/plain": [
       "model_name       lasso         ols          rf       ridge\n",
       "index                                                     \n",
       "0           289.526548  289.063789  288.354296  289.064135\n",
       "1            60.614354   60.455730   60.354214   60.459152\n",
       "2            -0.004305   -0.009750   -0.000034   -0.009788\n",
       "3           117.657398  117.000441  117.747178  117.004988\n",
       "4             0.805871    0.656989    0.912772    0.659277\n",
       "...                ...         ...         ...         ...\n",
       "1077         -0.003833   -0.007089   -0.000034   -0.007910\n",
       "1078         -0.003833   -0.009822   -0.000028   -0.009086\n",
       "1079        206.434345  206.921339  207.509555  206.919416\n",
       "1080         78.123430   77.725333   80.440843   77.728227\n",
       "1081          3.097753    2.894389    3.143875    2.894256\n",
       "\n",
       "[1082 rows x 4 columns]"
      ]
     },
     "execution_count": 66,
     "metadata": {},
     "output_type": "execute_result"
    }
   ],
   "source": [
    "est_pts_"
   ]
  },
  {
   "cell_type": "code",
   "execution_count": 68,
   "metadata": {},
   "outputs": [
    {
     "data": {
      "text/html": [
       "<div>\n",
       "<style scoped>\n",
       "    .dataframe tbody tr th:only-of-type {\n",
       "        vertical-align: middle;\n",
       "    }\n",
       "\n",
       "    .dataframe tbody tr th {\n",
       "        vertical-align: top;\n",
       "    }\n",
       "\n",
       "    .dataframe thead th {\n",
       "        text-align: right;\n",
       "    }\n",
       "</style>\n",
       "<table border=\"1\" class=\"dataframe\">\n",
       "  <thead>\n",
       "    <tr style=\"text-align: right;\">\n",
       "      <th></th>\n",
       "      <th>index</th>\n",
       "      <th>player</th>\n",
       "      <th>pid</th>\n",
       "      <th>Season</th>\n",
       "      <th>misc_fpts</th>\n",
       "    </tr>\n",
       "  </thead>\n",
       "  <tbody>\n",
       "    <tr>\n",
       "      <th>0</th>\n",
       "      <td>5</td>\n",
       "      <td>A.J. Brown (PHI)</td>\n",
       "      <td>18218</td>\n",
       "      <td>2024</td>\n",
       "      <td>289.6</td>\n",
       "    </tr>\n",
       "    <tr>\n",
       "      <th>1</th>\n",
       "      <td>11</td>\n",
       "      <td>A.T. Perry (NO)</td>\n",
       "      <td>24353</td>\n",
       "      <td>2024</td>\n",
       "      <td>60.6</td>\n",
       "    </tr>\n",
       "    <tr>\n",
       "      <th>2</th>\n",
       "      <td>17</td>\n",
       "      <td>AJ Barner (SEA)</td>\n",
       "      <td>26335</td>\n",
       "      <td>2024</td>\n",
       "      <td>0.0</td>\n",
       "    </tr>\n",
       "    <tr>\n",
       "      <th>3</th>\n",
       "      <td>23</td>\n",
       "      <td>AJ Dillon (GB)</td>\n",
       "      <td>19358</td>\n",
       "      <td>2024</td>\n",
       "      <td>117.6</td>\n",
       "    </tr>\n",
       "    <tr>\n",
       "      <th>4</th>\n",
       "      <td>29</td>\n",
       "      <td>AJ McCarron (FA)</td>\n",
       "      <td>12091</td>\n",
       "      <td>2024</td>\n",
       "      <td>0.8</td>\n",
       "    </tr>\n",
       "    <tr>\n",
       "      <th>...</th>\n",
       "      <td>...</td>\n",
       "      <td>...</td>\n",
       "      <td>...</td>\n",
       "      <td>...</td>\n",
       "      <td>...</td>\n",
       "    </tr>\n",
       "    <tr>\n",
       "      <th>1077</th>\n",
       "      <td>6472</td>\n",
       "      <td>Zavier Scott (IND)</td>\n",
       "      <td>25748</td>\n",
       "      <td>2024</td>\n",
       "      <td>0.0</td>\n",
       "    </tr>\n",
       "    <tr>\n",
       "      <th>1078</th>\n",
       "      <td>6473</td>\n",
       "      <td>Zavier Scott (IND)</td>\n",
       "      <td>25748</td>\n",
       "      <td>2024</td>\n",
       "      <td>0.0</td>\n",
       "    </tr>\n",
       "    <tr>\n",
       "      <th>1079</th>\n",
       "      <td>6479</td>\n",
       "      <td>Zay Flowers (BAL)</td>\n",
       "      <td>22916</td>\n",
       "      <td>2024</td>\n",
       "      <td>206.4</td>\n",
       "    </tr>\n",
       "    <tr>\n",
       "      <th>1080</th>\n",
       "      <td>6485</td>\n",
       "      <td>Zay Jones (ARI)</td>\n",
       "      <td>16431</td>\n",
       "      <td>2024</td>\n",
       "      <td>78.1</td>\n",
       "    </tr>\n",
       "    <tr>\n",
       "      <th>1081</th>\n",
       "      <td>6491</td>\n",
       "      <td>Zonovan Knight (DET)</td>\n",
       "      <td>24901</td>\n",
       "      <td>2024</td>\n",
       "      <td>3.1</td>\n",
       "    </tr>\n",
       "  </tbody>\n",
       "</table>\n",
       "<p>1082 rows × 5 columns</p>\n",
       "</div>"
      ],
      "text/plain": [
       "      index                player    pid  Season  misc_fpts\n",
       "0         5      A.J. Brown (PHI)  18218    2024      289.6\n",
       "1        11       A.T. Perry (NO)  24353    2024       60.6\n",
       "2        17       AJ Barner (SEA)  26335    2024        0.0\n",
       "3        23        AJ Dillon (GB)  19358    2024      117.6\n",
       "4        29      AJ McCarron (FA)  12091    2024        0.8\n",
       "...     ...                   ...    ...     ...        ...\n",
       "1077   6472    Zavier Scott (IND)  25748    2024        0.0\n",
       "1078   6473    Zavier Scott (IND)  25748    2024        0.0\n",
       "1079   6479     Zay Flowers (BAL)  22916    2024      206.4\n",
       "1080   6485       Zay Jones (ARI)  16431    2024       78.1\n",
       "1081   6491  Zonovan Knight (DET)  24901    2024        3.1\n",
       "\n",
       "[1082 rows x 5 columns]"
      ]
     },
     "execution_count": 68,
     "metadata": {},
     "output_type": "execute_result"
    }
   ],
   "source": [
    "X.query(f\"Season == 2024\")[['player', 'pid', 'Season', 'misc_fpts']].reset_index()"
   ]
  },
  {
   "cell_type": "code",
   "execution_count": 72,
   "metadata": {},
   "outputs": [],
   "source": [
    "finalpreds = pd.concat([X.query(f\"Season == 2024\")[['player', 'pid', 'Season', 'misc_fpts']].reset_index(drop=True), est_pts_], axis=1)"
   ]
  },
  {
   "cell_type": "code",
   "execution_count": 75,
   "metadata": {},
   "outputs": [],
   "source": [
    "finalpreds['median_est'] = finalpreds[['lasso', 'ols', 'rf', 'ridge']].median(axis=1)"
   ]
  },
  {
   "cell_type": "code",
   "execution_count": 77,
   "metadata": {},
   "outputs": [],
   "source": [
    "finalpreds['delta'] = finalpreds['median_est'] - finalpreds['misc_fpts']"
   ]
  },
  {
   "cell_type": "code",
   "execution_count": 78,
   "metadata": {},
   "outputs": [
    {
     "data": {
      "application/vnd.plotly.v1+json": {
       "config": {
        "plotlyServerURL": "https://plot.ly"
       },
       "data": [
        {
         "alignmentgroup": "True",
         "bingroup": "x",
         "hovertemplate": "variable=delta<br>value=%{x}<br>count=%{y}<extra></extra>",
         "legendgroup": "delta",
         "marker": {
          "color": "#636efa",
          "pattern": {
           "shape": ""
          }
         },
         "name": "delta",
         "offsetgroup": "delta",
         "orientation": "v",
         "showlegend": true,
         "type": "histogram",
         "x": [
          -0.5360381122025046,
          -0.14255873751306325,
          -0.0070275335335448115,
          -0.2688069222971592,
          -0.06742614272553094,
          -0.15715702977607293,
          0.009319067857460304,
          -0.0041255949202416015,
          0.01660030445497416,
          -0.02100665295201365,
          0.4642267932935056,
          0.04160373647102489,
          -0.004372198668784832,
          -0.000725495471914195,
          -0.0074680614828959956,
          -1.2396320303495827,
          -0.006436020280325619,
          -0.002548896041957363,
          0.04766481512068012,
          -0.007552493462365986,
          0.283388820903717,
          -0.24275577861115494,
          0.10899223098859334,
          0.003469791595097582,
          -0.06742545961380131,
          -0.13347939612339133,
          -0.14401767943572708,
          -0.05751900605386595,
          1.5195802663053541,
          0.5962871646720487,
          0.02828870235312557,
          -0.01678558394489471,
          -0.31729752735196826,
          0.048447761949985485,
          0.09978062956236045,
          -0.972664182828312,
          -9.90297175047236,
          0.04446132245555848,
          -0.006419105000773157,
          -0.20840691881967643,
          0.027563740222547817,
          0.01922970495532496,
          -0.0023187016598948777,
          0.01901060060232973,
          -0.007444050913324602,
          0.05496666181166576,
          0.005947181287843925,
          0.9831051616662307,
          0.0016301755694577685,
          0.10728927378043118,
          -0.2197719354209653,
          -0.003879278143794908,
          0.00383982065667354,
          -0.0014090401023303112,
          -0.36637156844028596,
          0.08232030467657836,
          -0.006433011913971345,
          -0.0057331974719982155,
          -0.002134425658314787,
          0.13321219267547768,
          0.015957857100520875,
          -0.002032668796172468,
          -0.0017474813171863696,
          -0.007876241165609633,
          -0.5959235567022887,
          -0.275162801315048,
          -0.002217155733057379,
          0.017938893708579182,
          0.003307452876013091,
          0.010472721072832739,
          0.010133546020267845,
          0.12151318458359661,
          -0.006989928954116362,
          0.07972009622133314,
          -0.002692477617032998,
          -0.5655746787504086,
          -0.09390963709433287,
          0.2005909399635275,
          -0.0013473685920676517,
          -0.006428499364439929,
          0.00753330864547515,
          -0.10336884919399125,
          -0.0005826592746086513,
          0.01828900425626149,
          -0.008298150315326325,
          0.018890798792412605,
          0.11215129254508192,
          -0.0033524447671926527,
          0.6050136855081405,
          -0.26773265014782055,
          0.009433149437914096,
          0.47155559406866665,
          0.5360447054423787,
          -0.018075997334861427,
          -0.0028625341069836545,
          0.06009912558166519,
          0.07860402590001328,
          -0.004178613451615494,
          0.3162702627835756,
          -0.00718096021761289,
          -0.00715742473906613,
          0.012199110052702175,
          0.06350480157318827,
          -0.1791066192286861,
          0.014737984652593185,
          0.01705362565855495,
          -0.006528144718734983,
          -0.10140350661558006,
          0.47005315928603864,
          -0.002335802237011275,
          0.05544138463606174,
          -0.006965492758678209,
          0.009072926339238419,
          -0.0019433943948182573,
          -0.8603133471851834,
          0.03185839461158935,
          0.009469571471756118,
          -0.005847348036827134,
          -0.007720172463395597,
          -0.18050687897823536,
          0.04187750062447648,
          -0.006284040270906802,
          -0.007369017883414011,
          -0.005811784261813337,
          0.05908433935551827,
          0.09508851094233961,
          -0.04978873298299469,
          0.028839119666315582,
          0.0694060369524756,
          0.6237914598063838,
          -0.005424074266715666,
          -0.0007738400310022232,
          -0.2598554531780479,
          0.3099600898990218,
          -0.14847808808147533,
          -0.007168926752195787,
          -0.007837223990056125,
          -0.004013150446560193,
          -0.0053048745311178175,
          -0.006399919884074307,
          0.5614107419920558,
          -0.005734701655175353,
          -0.08306663704543915,
          -0.007457556858708509,
          -0.07814643171032287,
          -0.053381663459646234,
          0.19604134188097078,
          0.03035087146107846,
          0.01910364946507516,
          1.8392535113516324,
          0.06517334480092885,
          0.11963657187032428,
          -0.015434982162005895,
          -0.012795882467944608,
          0.006373645476716296,
          -0.03444104081908961,
          -0.1764481479169433,
          0.01013547744817983,
          -0.11971054862309849,
          -0.006738361098930364,
          -0.15262771688484555,
          -0.09582129546229812,
          0.31466977791288286,
          0.018183711433861827,
          0.13643840391304662,
          -0.10596203354366196,
          0.0038136617621775826,
          0.02094215494281582,
          0.331338859160752,
          0.008635571203674685,
          -0.08099715945659369,
          -0.22279390683411293,
          -1.0448133953997853,
          -0.4215970674508043,
          -0.4299800461870973,
          0.6064482496232699,
          -0.1612703679106886,
          -0.0061652673084407715,
          0.021533683334358233,
          0.002210790275833048,
          0.02643934964169148,
          -0.008009799958850494,
          -0.007973414735521711,
          -0.3615072260841714,
          -0.03815547903396066,
          -0.014093150151412548,
          -0.006706773252210465,
          -0.007390041679235076,
          0.07742737873079464,
          0.08322414194812211,
          0.3918448463684001,
          -0.020202909169751315,
          -0.06124051933445429,
          0.03158983080139218,
          -0.007888246450395328,
          -0.002361313467180876,
          -0.0020521773839492236,
          -0.13224483948596344,
          -0.0014207619514152725,
          -0.37062453222424097,
          -0.22964115001585128,
          0.04077448441908871,
          -0.509076205993324,
          -0.08737579941569606,
          -0.0011954460911767096,
          -0.12676421947161032,
          -0.2566296965085826,
          0.07927537939629282,
          -0.33591051838826047,
          -0.005817800994521888,
          0.3648641803412147,
          -0.23376807096974517,
          -0.0046163279005925414,
          0.02651118126315514,
          -0.2044057467995799,
          -0.07642270485220592,
          -0.031120032885212368,
          2.1119770223537984,
          -0.07644117001249384,
          -0.08436219448275306,
          0.013826038608890156,
          0.013410157369240887,
          0.014625126143762657,
          -0.18084655449828801,
          -0.004103580421704899,
          -0.0065112294391825205,
          0.005933643639249683,
          0.019036119738155624,
          0.9394848258843815,
          0.05465713006169711,
          -0.32881175502294013,
          0.01873773141139499,
          -0.17758651057678776,
          0.15375651061683016,
          0.04267134447476422,
          -0.1254769513562337,
          -0.11753122976310237,
          -0.1105694479064816,
          0.0055500769290794845,
          -0.3280594004867794,
          -0.07216662907926263,
          -0.006743242413959643,
          -0.007910489058524837,
          0.07069695183420777,
          -0.1605191024166004,
          -0.17751114984369565,
          0.03900377662429774,
          -0.008297926793707179,
          0.08348453254206234,
          -0.008021805243636188,
          0.004097035979964144,
          0.06360496394499648,
          0.3819618691362727,
          0.7126245300546543,
          0.010002293818309152,
          -0.005653762819657801,
          -0.007447052234521027,
          -0.10164236967824536,
          0.10909664770273686,
          -0.33329130974439636,
          -0.22276393561125474,
          -0.1129474686127594,
          -0.32312814508421184,
          -0.004734789106982502,
          0.04641675038511661,
          -0.007826719365868639,
          0.16245754893065367,
          -0.6457075642681787,
          -0.04349272196853349,
          0.015399468372979327,
          0.0025963828847441854,
          -0.005494401611437211,
          -0.005122528967890786,
          0.002804942630802572,
          0.0059351478224268185,
          -0.01677921232335411,
          0.005944172921489648,
          1.8505729574027328,
          1.1255360915896517,
          0.01869871423584148,
          0.00804670319859706,
          0.007699750291763273,
          -0.008302428775501814,
          2.000357121412293,
          -0.18280453392489493,
          2.207011990100966,
          -0.006431507730794206,
          1.485977603680226,
          1.5111689519920333,
          -0.07069068262732614,
          -0.007451554216315664,
          0.04502014410949329,
          -0.0071854727671443065,
          0.073614890816045,
          -0.003198648818520628,
          1.4225223977723545,
          -0.023620153974034608,
          0.008161515346115929,
          -0.008018790247278773,
          -0.006854291298227327,
          0.0016497299507605631,
          -0.008099839594743209,
          -0.31111318987416325,
          0.01584895975983707,
          0.0015848800129276697,
          -0.03557231136135286,
          0.13996497045830836,
          0.18924670380022945,
          0.015386756295587802,
          1.385574778038972,
          -0.0007320879117898341,
          -0.007462058840503147,
          -0.004597539173258999,
          -0.15213883435137632,
          -0.0778598195004605,
          0.0693075823298841,
          -0.006330560749451368,
          0.023493143623170454,
          0.05598675530571712,
          0.07889552000212063,
          0.006572052737192212,
          -0.006132175278543737,
          -0.0061566114739818895,
          -0.0024495655963058874,
          0.01426754178020956,
          -0.35167352900893434,
          0.002594882224145974,
          -0.024524989666368846,
          -0.017812302111161582,
          -0.020167394452926146,
          -0.3305151478651638,
          -0.24328026840416328,
          -0.005717020721653639,
          -0.006336744190634512,
          -0.10990232837134428,
          -0.15714800290700737,
          -0.0006222139138624928,
          -0.022818885145367673,
          0.02938635126296063,
          0.0892940339467323,
          0.010955305549068046,
          -0.0032700839570540038,
          0.018420605760605203,
          0.0201729829417312,
          0.007712894484928727,
          -0.15903065146466133,
          -0.013265502533177598,
          -0.30261176438207826,
          0.002926285084067266,
          0.0023385123941352722,
          0.0589490514236104,
          -0.005810280078636199,
          0.4689379515662324,
          0.4902495614970235,
          0.018072695634103582,
          -0.5185721483655357,
          -0.03460313939131332,
          1.5130369854453818,
          0.049025961998445666,
          -0.008006756781861671,
          -0.0011999586407081264,
          -0.2508006631753119,
          -0.40600285841179584,
          -0.07535321877041667,
          0.07279662530610786,
          0.08890116449763492,
          0.09277215398862815,
          -0.006042433914594683,
          -0.1527763659252912,
          -0.032297892070772605,
          0.00613520418498618,
          -0.006359073300817393,
          -0.006043797735696537,
          2.0761063662482497,
          0.265472719408649,
          0.09561887427588545,
          -0.005423705002111721,
          -0.0025281523861210107,
          -0.007460558179904934,
          -0.17231520345092832,
          -0.00794658945477615,
          -0.002648117775688106,
          0.019615416935780203,
          0.019192824660404593,
          -0.23019791251743982,
          0.01841310245761414,
          -0.028932238644372887,
          0.010036546915146287,
          0.03405326421193217,
          0.04686552818755274,
          -0.061180089227121925,
          0.0028092335574067383,
          -0.018111993982714125,
          -0.006795520059661608,
          1.985491917454297,
          0.07524975831826453,
          0.11870004722419464,
          -0.006430003547617068,
          -0.007170430935372925,
          -0.005805767529104782,
          0.06095218439213568,
          -0.18332850311307425,
          0.012255183609301668,
          -0.04433491836720549,
          -0.007736679729975925,
          -0.007406534398369306,
          0.030168998138975535,
          -0.007696161893824204,
          -0.7265577055783581,
          -0.058720593809777455,
          -0.0007013231923701793,
          0.003597323503751528,
          -0.016132418337157617,
          0.018598169975761282,
          0.02047484550113872,
          0.020161300732840323,
          -0.00803230986782367,
          -0.0071454194542804345,
          -0.49818515284920295,
          -0.004017662996091605,
          0.018481543494941632,
          -0.007705165857413477,
          -0.003387040980266825,
          -0.005283815966637887,
          -0.005737710021529627,
          0.1046186556205484,
          -0.007179456034435752,
          -0.002250264582913197,
          -0.005770814346318329,
          0.027720884646918353,
          0.021175712045072605,
          0.021855891001014666,
          0.007671860160180395,
          -0.006654126841010634,
          -0.005378579506797581,
          -0.007177951851258616,
          -0.02495993819127662,
          -0.006387886418657203,
          -0.00744855289511924,
          -0.007603120936735068,
          0.010006702868541946,
          -0.25996837994760824,
          -0.004638890648249613,
          -0.27564653734268063,
          -0.05696719300866704,
          0.5313169232406381,
          -0.15005968674933,
          0.004183838665368847,
          -0.11657549562325809,
          -0.0032437743138347686,
          0.0036210909410393805,
          -0.004685520326740893,
          0.14884818901970132,
          1.4370482280470753,
          -0.12514771500067923,
          -0.046482569047020306,
          -0.007442550252726391,
          -0.024617030959095842,
          -2.8483535181470643,
          -0.007022651719409453,
          -0.0026044204840912043,
          -0.005875860588193161,
          -0.02781143583169854,
          1.8555896906163127,
          -0.07509479677383979,
          0.00843928551078222,
          -0.005844346715630713,
          -0.2013083247883216,
          -0.007463559501101358,
          -0.15966494083563987,
          -0.2669061690714827,
          -0.007080891048557322,
          -0.22241555596984597,
          -0.22140419353632979,
          -0.1990897141592427,
          0.01776080136195904,
          0.03436250144654629,
          0.22741576679706332,
          -0.03806155500195807,
          0.021328546878299444,
          -0.3276412502056729,
          0.06698235361913873,
          -0.005848848697425347,
          0.2731648480241802,
          -0.0070395669989619155,
          -0.02895987549143131,
          0.00252134985483359,
          -0.13533393109528546,
          -0.0069173588970097896,
          -0.001168370793988226,
          0.005973569823546576,
          -0.005739214204706767,
          -0.08516290774372237,
          0.062192880695251,
          -0.061765237466175904,
          -0.0009275531256893801,
          -0.002163226268216906,
          0.959885386352596,
          -0.006335240007457372,
          -0.20676580201637762,
          0.017667517272586364,
          -0.0005738693547744647,
          0.5957903427596989,
          -0.007619628203315396,
          -0.27562681729725114,
          -0.34408463822168756,
          -0.005820809360876162,
          -0.007148420775476861,
          -0.09779247512284428,
          -0.007597118294342219,
          -0.10414004837728896,
          -0.0032580504916368963,
          0.0315913314619904,
          0.02579653345867783,
          1.3553854983121028,
          -0.0022697731706899493,
          0.002621894114913788,
          0.3749361076469029,
          -0.215845445813045,
          -0.007472563464690628,
          0.046066242319397155,
          -0.0058533506792199826,
          -0.007403533077172881,
          0.6847433697982126,
          0.16304628934376098,
          0.004214338141900156,
          -0.6663912587839604,
          0.12115447880324837,
          -0.005107457270308792,
          0.07899174970776812,
          -0.0058332120908972124,
          0.01850963100046678,
          -0.09457954230352783,
          0.021170044913817243,
          -0.008281419527126847,
          -0.008249905654564396,
          0.006799733220335735,
          -0.008738689460159321,
          -0.006330358193322012,
          -0.005742222571061044,
          0.0072513081024226005,
          -0.006383743133729731,
          -0.006750745716950704,
          -0.006436389544929562,
          0.005771537578277042,
          0.008427160622642017,
          0.009980933683607418,
          -0.0057798183099076,
          -0.25976755826602016,
          -0.26730185578443866,
          -0.05312676516779691,
          0.06704207431026735,
          -0.006062982852395387,
          -0.18843011772717944,
          -0.004819395527051977,
          -0.4649898378077637,
          0.014084471726715009,
          -0.2179145980650219,
          -0.20040894872009574,
          0.013665145169739176,
          0.014279268774107417,
          0.023000149396060026,
          -0.00641533098044963,
          0.018090040497921258,
          -0.004219989195797353,
          -0.002538391417769882,
          -0.0035033161824201374,
          -0.008012801280046918,
          -0.005664267443845284,
          0.7450813784872139,
          -0.3355971893096523,
          -0.4909355105346265,
          0.019065889817836322,
          0.024045197473590463,
          0.021851481950781865,
          -0.02657966874554063,
          -0.010899883066230132,
          -0.00738702581059255,
          0.831344207562438,
          -0.26100099381905295,
          -0.3399696983445466,
          0.13977168389521033,
          -0.13540206662237608,
          -0.007927263625948837,
          0.12300040698658776,
          0.023422372870363972,
          0.0206899846355096,
          -0.3599418505747849,
          -2.3584347504182404,
          -0.005169049446435356,
          0.08825513138543482,
          0.5416172562685517,
          -0.1987461375644557,
          -0.003961017664874769,
          0.018457107879529363,
          -0.15509026426713035,
          -0.009248731834167856,
          -0.13061444725316562,
          0.04641098482114653,
          -0.2572932697371044,
          0.0029207647354421995,
          -0.011409094268444164,
          -0.017486007980480167,
          -0.005059501222765885,
          -0.007321984171659921,
          -0.06223675703512299,
          -0.007777197566127648,
          -0.593512664168145,
          -0.002805509004251602,
          -0.019989072287970533,
          -0.006231517149969383,
          -0.05848780537605336,
          -0.06013943299204527,
          0.02149536818695047,
          -0.05773874771918486,
          -0.0008639367093026438,
          -0.010389462857826715,
          1.8797265851879956,
          -0.004677999410855203,
          -0.0011713791603425033,
          0.0835747315869142,
          0.15938929570759708,
          0.01844810391594009,
          0.004483611056488618,
          -0.0012706552500336109,
          -0.09983866791760931,
          -0.005095517077122972,
          -0.07196219495219225,
          0.005546219437962963,
          1.4325162807327843,
          -0.40919267628123634,
          0.018729984976120394,
          -0.004831056830319336,
          0.01783022838723439,
          -0.703182493926434,
          -0.051243714599802814,
          0.1034058582388826,
          -0.006866296583013021,
          -0.0024093346063236588,
          -0.0076923824978398225,
          -0.14381132156044885,
          0.14938619723803437,
          -0.11907287464815397,
          0.8947582290651894,
          -0.29362153100787225,
          0.11755883731082051,
          -0.0063743487700629615,
          -0.6161975968764466,
          0.014875880809210092,
          0.013865924871913713,
          0.1700140027831969,
          -0.0068286120895586465,
          0.02533454075402926,
          0.009762681184368516,
          0.07706095194493057,
          0.1627915024463178,
          -0.06752602139630781,
          -0.17640315676999307,
          -0.007652642736476058,
          0.005411280696504678,
          -0.16381697507368642,
          0.30381392738874524,
          0.291381954176245,
          -0.004783379672694894,
          -0.0710698628701607,
          -0.0066379500906660616,
          -0.007020864624628845,
          -0.08901566571427111,
          -0.005054999240971247,
          -0.03271256864736882,
          -0.13450161961564788,
          -0.008210888479010888,
          0.01685063609896531,
          -4.329151019831249,
          -0.9598852691842339,
          -0.07069666287244347,
          0.04379413241487761,
          -0.005482368146020109,
          -0.005002533712513076,
          -0.06396967269668608,
          -0.007736003809976825,
          0.6188404050121505,
          -0.06060662315187848,
          -0.007031676818472282,
          -0.006506716889651107,
          -0.10271745283522193,
          0.029874694035936268,
          0.006176715939794259,
          -0.00728174049048114,
          -0.03772543877627754,
          -0.007330000707860499,
          -0.12488743343809006,
          0.15740498857477192,
          0.056464072117769604,
          -0.5619725482590923,
          -0.1363526620548825,
          0.01864894930381695,
          -0.006872299225405866,
          0.02550155953743865,
          0.024339375807516148,
          0.021221774785477928,
          0.03960255359255882,
          -0.006115966283907067,
          -0.005950893618103756,
          -0.0010905972429320343,
          0.0045738620471168995,
          -0.007308991459485534,
          -0.0020399111605411413,
          -0.001505307825667145,
          0.1406431322383117,
          -0.059040835891753574,
          -0.008045815813207577,
          -0.007351009956235466,
          0.0031614340437842847,
          -0.05132476167895561,
          0.017723431381657592,
          0.03159283212258861,
          0.017859844961441024,
          0.03759134862096512,
          -0.12422485492285773,
          -0.16988548855357166,
          0.01364709497161352,
          -0.0024318445152968354,
          -0.005255509149536763,
          1.7463792175216355,
          -0.007171935118550061,
          0.050242516165251105,
          -0.007537451630594605,
          0.10012811169464442,
          -0.007657144718270696,
          0.020741301143538726,
          -0.07308572920068457,
          0.010610825707968246,
          -0.0007123105921629134,
          -0.0060274273086125645,
          0.003974232446186257,
          0.050829253183998946,
          0.0877505066814784,
          0.1876142611178011,
          -0.005644758856068528,
          0.017681314252697724,
          0.01086554057026176,
          -0.00716591838584151,
          -0.10547762245072434,
          -0.05691152189328719,
          -0.007183968583967167,
          0.009196539888265291,
          0.7828463778098325,
          -0.04667981714760572,
          -0.005870816670325664,
          -0.2170290671699746,
          -0.002841391751569663,
          0.6907624009456157,
          -0.0006518798933028774,
          1.2180656859684404,
          -0.003992857536049509,
          -0.1391246121892067,
          -0.006411953349491413,
          0.3692634117793574,
          -0.0036758921512145045,
          -0.046866780832619526,
          -0.3955626149641489,
          0.017658751505040655,
          0.035907891742155584,
          -0.0051120243437033,
          -0.007737507993153963,
          -0.18997782241251748,
          0.004826364533687079,
          -0.018801523868401393,
          -0.12321537723227038,
          0.15758182462194892,
          -0.23106626763659222,
          -0.0017568756808531427,
          0.07423127754996568,
          0.008271741601935882,
          0.541718604639982,
          0.11424476236694936,
          0.6578300233899483,
          0.014275616569925327,
          0.0546747662626283,
          0.08818583507771294,
          0.006879268232040967,
          0.0979021814400362,
          0.0985854498670608,
          -0.32263380668263153,
          0.09017418515432585,
          0.017633180391029308,
          -0.00209795599745953,
          0.009301091305271448,
          0.030655213360358924,
          -0.0067579154802331586,
          -0.007636727720285714,
          -0.04731223280455765,
          0.0973453406716338,
          0.13351740755039454,
          -0.05763320948953776,
          -0.10763406368906203,
          -0.08084912131552313,
          0.08818115302839513,
          0.7262128111310773,
          0.4138938001439101,
          -0.0064956334152546785,
          -0.0037318681924353777,
          -0.32038500241421275,
          -0.14169775067449564,
          -0.07176194551605874,
          0.014646965205452294,
          0.0034622706792118924,
          0.006810237844523217,
          -0.007783200208520493,
          -0.1702330586174412,
          0.005196803056605859,
          -0.0055861567852426314,
          -0.4597321499845357,
          0.0389334492795762,
          0.026067494351309506,
          0.003879871275458413,
          0.7016361145886805,
          0.015039968593643338,
          0.028759584913164528,
          -1.1187167479417894,
          -0.006064856300176469,
          0.20532009957340946,
          0.02120971640730554,
          -0.05909022202319392,
          0.01493000977079717,
          -0.008234899048582277,
          -0.048233581880197995,
          -0.08505627410900019,
          -0.008065324400984333,
          0.025664305009332193,
          -0.01612139849314076,
          -0.006431876995398149,
          -0.5247918678138035,
          -0.008075829025171816,
          -0.0077645832903424465,
          0.016786221750733847,
          -0.23699030868000648,
          -0.012704957857032184,
          0.0027267251055913934,
          0.10519614223647089,
          0.0037691240473480504,
          -0.0027409805985284877,
          -1.0055007574962929,
          0.6360195300165898,
          -1.288680450031677,
          -0.12138873492035884,
          -0.005030988671399858,
          -0.0025278867935823995,
          -0.006520254538245349,
          0.6677210032820149,
          -0.07671875512457316,
          -0.27436904480180146,
          -0.005814792628167611,
          1.71618301742987,
          -0.07553371841659384,
          -0.006127662729012322,
          -0.07838490247461039,
          0.3152810887999504,
          -0.3483340203296166,
          -0.12580618869723992,
          -0.0071589253996643416,
          -0.20738062218194386,
          -0.007746533092216791,
          -0.0021077786226797457,
          -0.3657969137073849,
          -0.005426713368465999,
          0.04302940214014228,
          -0.15536080189527013,
          0.01755496286581813,
          0.1495337616174474,
          -0.007077889727360898,
          -0.0059538949393001805,
          -0.15402211015870648,
          -0.39350230884204507,
          0.09180464324554904,
          -0.05081586280102002,
          -0.13423948151952914,
          0.09285926765085684,
          -0.10224357661129346,
          0.005419212992668474,
          0.08454555431944755,
          -0.007435046949735333,
          0.006632677177893183,
          -0.2635582376049399,
          0.019754956913147926,
          0.0016376964853434591,
          0.002279986630805012,
          -0.0028353750188611117,
          -0.06005356226987146,
          -0.20693883632880983,
          0.015094734124265494,
          0.017535408484515336,
          -0.0026601512411052117,
          0.5966922780933146,
          1.12839586661579,
          -0.007766692941940162,
          -0.006721815083981845,
          -0.007717171142199171,
          -0.00794527155312738,
          -0.06098322549867419,
          0.018431353517076223,
          -0.0023299694713427316,
          0.907890832903842,
          -0.005155543501051445,
          0.4530677860983019,
          -0.1823946518703039,
          0.017528854555572737,
          0.09977407328035892,
          -0.006575168426959911,
          -0.02604670062067438,
          0.001640704851697733,
          0.017699031145148814,
          0.003984250805806662,
          -0.002704511082450102,
          -0.006133974211085611,
          -0.007704415963256925,
          0.01435016480505567,
          0.02876813342470541,
          -0.001586533717232599,
          -0.006305156343914611,
          0.009712962332003956,
          -0.1882075854120444,
          -0.0013684271565475841,
          -0.0017249185695292994,
          -0.0007705438110644054,
          0.027240340839463143,
          -0.0014376195826959343,
          0.34594560315127865,
          0.04390778304637167,
          0.004325387026167842,
          -0.03083762792027045,
          0.08280233139058524,
          -0.002038923588947205,
          -0.07250914707720568,
          -0.0074095960605378725,
          -0.11603043621381914,
          -0.12165639253470317,
          -0.006473123506281502,
          -0.00743354628913712,
          -0.024832567580485687,
          -0.43054076558985344,
          0.0324684007929127,
          -0.11236636269028111,
          -0.008263411599948306,
          -0.003261824511960427,
          -0.007053104647556157,
          -0.003995865902403787,
          -0.006313046524404245,
          0.0075035430408971196,
          0.008647613134281924,
          -0.8207749448829418,
          16.10182843463263,
          -15.000196649228883,
          -0.0025984178416983573,
          -0.038111196433186834,
          0.017520207331094717,
          -0.34120542071863724,
          -0.0074545555375120885,
          -0.04035303571264137,
          0.006961151420236643,
          -0.007290396324940022,
          -0.29782825699504656,
          -0.006105461659719584,
          -0.002167517688211825,
          -0.00532931072655597,
          -0.007588593858617298,
          -0.20573515432346667,
          0.014247511769261426,
          0.14309577444801747,
          0.006998605328663411,
          -0.007173439301727199,
          0.0032441641185268766,
          -0.6865122731269082,
          0.0026206365865991156,
          -0.020195605025882912,
          -0.19065571407445248,
          0.26927121536036225,
          0.00533634600479559,
          0.6964168574686482,
          0.10617250157496662,
          -0.21228109549861074,
          0.01902417848900007,
          0.027080086924071267,
          -0.20650840318421615,
          0.06894763520405685,
          0.02929054250990229,
          -0.006671210705245472,
          0.09540573033769206,
          0.2799146530672241,
          -0.016435422693668045,
          0.09522024968201093,
          -0.1757109333233302,
          -0.5070347284024379,
          -0.004919803637770483,
          -0.0018711936023156298,
          0.002924784423469058,
          -0.16313028160851673,
          -0.19201285455631023,
          -0.033886127488774065,
          -0.30312686616149875,
          -0.0075178972492918085,
          0.6649969476919626,
          -0.002473863012046768,
          -0.004143645118367257,
          -0.364710827974136,
          0.03948122641461649,
          -0.1437552657926915,
          -0.007445551573922815,
          1.227400010018684,
          -0.3066646687904466,
          -0.08530138752106353,
          -2.505955487132601,
          0.09929804202313441,
          -0.006498634736451103,
          -0.4163002248661769,
          1.9540680990561992,
          0.5388972021785605,
          -0.0025492109506009414,
          -0.6240103439191387,
          -0.17843630675213262,
          0.0027436907556524937,
          -0.13521518027184953,
          -0.007813213420484732,
          -0.10418104751997248,
          -0.25135098813421664,
          0.09489274214850596,
          0.08164389224690191,
          1.089912798464269,
          0.0029012601184647425,
          0.044602715674209446,
          -0.03335705820010304,
          -0.004066809643727964,
          0.027973247311333313,
          -0.33101401478677417,
          -0.004059410860447525,
          -0.005061001883364096,
          -0.006557160499781367,
          0.0023085621823470213,
          -0.09410352052301851,
          -0.2404827936127134,
          0.0036172015464571118,
          -0.001297730547222098,
          -0.14095221669436597,
          -0.15676414942213057,
          0.1212870165518698,
          -0.23178890749574066,
          0.05741049210567439,
          0.005687500584777176,
          -0.08717161522011452,
          -0.13141229180202174,
          -0.0012225213883651966,
          0.014462106234805733,
          0.011338502153429797,
          1.8288677713968369,
          -0.06351265413104201,
          -0.007465060161699571,
          -0.007041873873003814,
          0.018312801329817482,
          -0.006278037628513953,
          -0.0037719344295000685,
          -0.0023643147883773002,
          -0.004873173959279204,
          -0.08428558492627758,
          -0.002603730809581855,
          -0.04224369555797125,
          -0.033804140158047336,
          0.016148140016236052,
          -0.007167422569018648,
          0.13661862579162865,
          0.8091690886539169,
          0.055024420065036925,
          0.019545548679028444,
          0.6669990092838987,
          -0.004798334065026244,
          -0.152941443085723,
          -0.0027312171150346443,
          -0.005461309581540173,
          -0.006459617560897595,
          0.5203776120069961,
          -0.1741713326980232,
          -0.10392871668421089
         ],
         "xaxis": "x",
         "yaxis": "y"
        }
       ],
       "layout": {
        "barmode": "relative",
        "legend": {
         "title": {
          "text": "variable"
         },
         "tracegroupgap": 0
        },
        "margin": {
         "t": 60
        },
        "template": {
         "data": {
          "bar": [
           {
            "error_x": {
             "color": "#2a3f5f"
            },
            "error_y": {
             "color": "#2a3f5f"
            },
            "marker": {
             "line": {
              "color": "#E5ECF6",
              "width": 0.5
             },
             "pattern": {
              "fillmode": "overlay",
              "size": 10,
              "solidity": 0.2
             }
            },
            "type": "bar"
           }
          ],
          "barpolar": [
           {
            "marker": {
             "line": {
              "color": "#E5ECF6",
              "width": 0.5
             },
             "pattern": {
              "fillmode": "overlay",
              "size": 10,
              "solidity": 0.2
             }
            },
            "type": "barpolar"
           }
          ],
          "carpet": [
           {
            "aaxis": {
             "endlinecolor": "#2a3f5f",
             "gridcolor": "white",
             "linecolor": "white",
             "minorgridcolor": "white",
             "startlinecolor": "#2a3f5f"
            },
            "baxis": {
             "endlinecolor": "#2a3f5f",
             "gridcolor": "white",
             "linecolor": "white",
             "minorgridcolor": "white",
             "startlinecolor": "#2a3f5f"
            },
            "type": "carpet"
           }
          ],
          "choropleth": [
           {
            "colorbar": {
             "outlinewidth": 0,
             "ticks": ""
            },
            "type": "choropleth"
           }
          ],
          "contour": [
           {
            "colorbar": {
             "outlinewidth": 0,
             "ticks": ""
            },
            "colorscale": [
             [
              0,
              "#0d0887"
             ],
             [
              0.1111111111111111,
              "#46039f"
             ],
             [
              0.2222222222222222,
              "#7201a8"
             ],
             [
              0.3333333333333333,
              "#9c179e"
             ],
             [
              0.4444444444444444,
              "#bd3786"
             ],
             [
              0.5555555555555556,
              "#d8576b"
             ],
             [
              0.6666666666666666,
              "#ed7953"
             ],
             [
              0.7777777777777778,
              "#fb9f3a"
             ],
             [
              0.8888888888888888,
              "#fdca26"
             ],
             [
              1,
              "#f0f921"
             ]
            ],
            "type": "contour"
           }
          ],
          "contourcarpet": [
           {
            "colorbar": {
             "outlinewidth": 0,
             "ticks": ""
            },
            "type": "contourcarpet"
           }
          ],
          "heatmap": [
           {
            "colorbar": {
             "outlinewidth": 0,
             "ticks": ""
            },
            "colorscale": [
             [
              0,
              "#0d0887"
             ],
             [
              0.1111111111111111,
              "#46039f"
             ],
             [
              0.2222222222222222,
              "#7201a8"
             ],
             [
              0.3333333333333333,
              "#9c179e"
             ],
             [
              0.4444444444444444,
              "#bd3786"
             ],
             [
              0.5555555555555556,
              "#d8576b"
             ],
             [
              0.6666666666666666,
              "#ed7953"
             ],
             [
              0.7777777777777778,
              "#fb9f3a"
             ],
             [
              0.8888888888888888,
              "#fdca26"
             ],
             [
              1,
              "#f0f921"
             ]
            ],
            "type": "heatmap"
           }
          ],
          "heatmapgl": [
           {
            "colorbar": {
             "outlinewidth": 0,
             "ticks": ""
            },
            "colorscale": [
             [
              0,
              "#0d0887"
             ],
             [
              0.1111111111111111,
              "#46039f"
             ],
             [
              0.2222222222222222,
              "#7201a8"
             ],
             [
              0.3333333333333333,
              "#9c179e"
             ],
             [
              0.4444444444444444,
              "#bd3786"
             ],
             [
              0.5555555555555556,
              "#d8576b"
             ],
             [
              0.6666666666666666,
              "#ed7953"
             ],
             [
              0.7777777777777778,
              "#fb9f3a"
             ],
             [
              0.8888888888888888,
              "#fdca26"
             ],
             [
              1,
              "#f0f921"
             ]
            ],
            "type": "heatmapgl"
           }
          ],
          "histogram": [
           {
            "marker": {
             "pattern": {
              "fillmode": "overlay",
              "size": 10,
              "solidity": 0.2
             }
            },
            "type": "histogram"
           }
          ],
          "histogram2d": [
           {
            "colorbar": {
             "outlinewidth": 0,
             "ticks": ""
            },
            "colorscale": [
             [
              0,
              "#0d0887"
             ],
             [
              0.1111111111111111,
              "#46039f"
             ],
             [
              0.2222222222222222,
              "#7201a8"
             ],
             [
              0.3333333333333333,
              "#9c179e"
             ],
             [
              0.4444444444444444,
              "#bd3786"
             ],
             [
              0.5555555555555556,
              "#d8576b"
             ],
             [
              0.6666666666666666,
              "#ed7953"
             ],
             [
              0.7777777777777778,
              "#fb9f3a"
             ],
             [
              0.8888888888888888,
              "#fdca26"
             ],
             [
              1,
              "#f0f921"
             ]
            ],
            "type": "histogram2d"
           }
          ],
          "histogram2dcontour": [
           {
            "colorbar": {
             "outlinewidth": 0,
             "ticks": ""
            },
            "colorscale": [
             [
              0,
              "#0d0887"
             ],
             [
              0.1111111111111111,
              "#46039f"
             ],
             [
              0.2222222222222222,
              "#7201a8"
             ],
             [
              0.3333333333333333,
              "#9c179e"
             ],
             [
              0.4444444444444444,
              "#bd3786"
             ],
             [
              0.5555555555555556,
              "#d8576b"
             ],
             [
              0.6666666666666666,
              "#ed7953"
             ],
             [
              0.7777777777777778,
              "#fb9f3a"
             ],
             [
              0.8888888888888888,
              "#fdca26"
             ],
             [
              1,
              "#f0f921"
             ]
            ],
            "type": "histogram2dcontour"
           }
          ],
          "mesh3d": [
           {
            "colorbar": {
             "outlinewidth": 0,
             "ticks": ""
            },
            "type": "mesh3d"
           }
          ],
          "parcoords": [
           {
            "line": {
             "colorbar": {
              "outlinewidth": 0,
              "ticks": ""
             }
            },
            "type": "parcoords"
           }
          ],
          "pie": [
           {
            "automargin": true,
            "type": "pie"
           }
          ],
          "scatter": [
           {
            "fillpattern": {
             "fillmode": "overlay",
             "size": 10,
             "solidity": 0.2
            },
            "type": "scatter"
           }
          ],
          "scatter3d": [
           {
            "line": {
             "colorbar": {
              "outlinewidth": 0,
              "ticks": ""
             }
            },
            "marker": {
             "colorbar": {
              "outlinewidth": 0,
              "ticks": ""
             }
            },
            "type": "scatter3d"
           }
          ],
          "scattercarpet": [
           {
            "marker": {
             "colorbar": {
              "outlinewidth": 0,
              "ticks": ""
             }
            },
            "type": "scattercarpet"
           }
          ],
          "scattergeo": [
           {
            "marker": {
             "colorbar": {
              "outlinewidth": 0,
              "ticks": ""
             }
            },
            "type": "scattergeo"
           }
          ],
          "scattergl": [
           {
            "marker": {
             "colorbar": {
              "outlinewidth": 0,
              "ticks": ""
             }
            },
            "type": "scattergl"
           }
          ],
          "scattermapbox": [
           {
            "marker": {
             "colorbar": {
              "outlinewidth": 0,
              "ticks": ""
             }
            },
            "type": "scattermapbox"
           }
          ],
          "scatterpolar": [
           {
            "marker": {
             "colorbar": {
              "outlinewidth": 0,
              "ticks": ""
             }
            },
            "type": "scatterpolar"
           }
          ],
          "scatterpolargl": [
           {
            "marker": {
             "colorbar": {
              "outlinewidth": 0,
              "ticks": ""
             }
            },
            "type": "scatterpolargl"
           }
          ],
          "scatterternary": [
           {
            "marker": {
             "colorbar": {
              "outlinewidth": 0,
              "ticks": ""
             }
            },
            "type": "scatterternary"
           }
          ],
          "surface": [
           {
            "colorbar": {
             "outlinewidth": 0,
             "ticks": ""
            },
            "colorscale": [
             [
              0,
              "#0d0887"
             ],
             [
              0.1111111111111111,
              "#46039f"
             ],
             [
              0.2222222222222222,
              "#7201a8"
             ],
             [
              0.3333333333333333,
              "#9c179e"
             ],
             [
              0.4444444444444444,
              "#bd3786"
             ],
             [
              0.5555555555555556,
              "#d8576b"
             ],
             [
              0.6666666666666666,
              "#ed7953"
             ],
             [
              0.7777777777777778,
              "#fb9f3a"
             ],
             [
              0.8888888888888888,
              "#fdca26"
             ],
             [
              1,
              "#f0f921"
             ]
            ],
            "type": "surface"
           }
          ],
          "table": [
           {
            "cells": {
             "fill": {
              "color": "#EBF0F8"
             },
             "line": {
              "color": "white"
             }
            },
            "header": {
             "fill": {
              "color": "#C8D4E3"
             },
             "line": {
              "color": "white"
             }
            },
            "type": "table"
           }
          ]
         },
         "layout": {
          "annotationdefaults": {
           "arrowcolor": "#2a3f5f",
           "arrowhead": 0,
           "arrowwidth": 1
          },
          "autotypenumbers": "strict",
          "coloraxis": {
           "colorbar": {
            "outlinewidth": 0,
            "ticks": ""
           }
          },
          "colorscale": {
           "diverging": [
            [
             0,
             "#8e0152"
            ],
            [
             0.1,
             "#c51b7d"
            ],
            [
             0.2,
             "#de77ae"
            ],
            [
             0.3,
             "#f1b6da"
            ],
            [
             0.4,
             "#fde0ef"
            ],
            [
             0.5,
             "#f7f7f7"
            ],
            [
             0.6,
             "#e6f5d0"
            ],
            [
             0.7,
             "#b8e186"
            ],
            [
             0.8,
             "#7fbc41"
            ],
            [
             0.9,
             "#4d9221"
            ],
            [
             1,
             "#276419"
            ]
           ],
           "sequential": [
            [
             0,
             "#0d0887"
            ],
            [
             0.1111111111111111,
             "#46039f"
            ],
            [
             0.2222222222222222,
             "#7201a8"
            ],
            [
             0.3333333333333333,
             "#9c179e"
            ],
            [
             0.4444444444444444,
             "#bd3786"
            ],
            [
             0.5555555555555556,
             "#d8576b"
            ],
            [
             0.6666666666666666,
             "#ed7953"
            ],
            [
             0.7777777777777778,
             "#fb9f3a"
            ],
            [
             0.8888888888888888,
             "#fdca26"
            ],
            [
             1,
             "#f0f921"
            ]
           ],
           "sequentialminus": [
            [
             0,
             "#0d0887"
            ],
            [
             0.1111111111111111,
             "#46039f"
            ],
            [
             0.2222222222222222,
             "#7201a8"
            ],
            [
             0.3333333333333333,
             "#9c179e"
            ],
            [
             0.4444444444444444,
             "#bd3786"
            ],
            [
             0.5555555555555556,
             "#d8576b"
            ],
            [
             0.6666666666666666,
             "#ed7953"
            ],
            [
             0.7777777777777778,
             "#fb9f3a"
            ],
            [
             0.8888888888888888,
             "#fdca26"
            ],
            [
             1,
             "#f0f921"
            ]
           ]
          },
          "colorway": [
           "#636efa",
           "#EF553B",
           "#00cc96",
           "#ab63fa",
           "#FFA15A",
           "#19d3f3",
           "#FF6692",
           "#B6E880",
           "#FF97FF",
           "#FECB52"
          ],
          "font": {
           "color": "#2a3f5f"
          },
          "geo": {
           "bgcolor": "white",
           "lakecolor": "white",
           "landcolor": "#E5ECF6",
           "showlakes": true,
           "showland": true,
           "subunitcolor": "white"
          },
          "hoverlabel": {
           "align": "left"
          },
          "hovermode": "closest",
          "mapbox": {
           "style": "light"
          },
          "paper_bgcolor": "white",
          "plot_bgcolor": "#E5ECF6",
          "polar": {
           "angularaxis": {
            "gridcolor": "white",
            "linecolor": "white",
            "ticks": ""
           },
           "bgcolor": "#E5ECF6",
           "radialaxis": {
            "gridcolor": "white",
            "linecolor": "white",
            "ticks": ""
           }
          },
          "scene": {
           "xaxis": {
            "backgroundcolor": "#E5ECF6",
            "gridcolor": "white",
            "gridwidth": 2,
            "linecolor": "white",
            "showbackground": true,
            "ticks": "",
            "zerolinecolor": "white"
           },
           "yaxis": {
            "backgroundcolor": "#E5ECF6",
            "gridcolor": "white",
            "gridwidth": 2,
            "linecolor": "white",
            "showbackground": true,
            "ticks": "",
            "zerolinecolor": "white"
           },
           "zaxis": {
            "backgroundcolor": "#E5ECF6",
            "gridcolor": "white",
            "gridwidth": 2,
            "linecolor": "white",
            "showbackground": true,
            "ticks": "",
            "zerolinecolor": "white"
           }
          },
          "shapedefaults": {
           "line": {
            "color": "#2a3f5f"
           }
          },
          "ternary": {
           "aaxis": {
            "gridcolor": "white",
            "linecolor": "white",
            "ticks": ""
           },
           "baxis": {
            "gridcolor": "white",
            "linecolor": "white",
            "ticks": ""
           },
           "bgcolor": "#E5ECF6",
           "caxis": {
            "gridcolor": "white",
            "linecolor": "white",
            "ticks": ""
           }
          },
          "title": {
           "x": 0.05
          },
          "xaxis": {
           "automargin": true,
           "gridcolor": "white",
           "linecolor": "white",
           "ticks": "",
           "title": {
            "standoff": 15
           },
           "zerolinecolor": "white",
           "zerolinewidth": 2
          },
          "yaxis": {
           "automargin": true,
           "gridcolor": "white",
           "linecolor": "white",
           "ticks": "",
           "title": {
            "standoff": 15
           },
           "zerolinecolor": "white",
           "zerolinewidth": 2
          }
         }
        },
        "xaxis": {
         "anchor": "y",
         "domain": [
          0,
          1
         ],
         "title": {
          "text": "value"
         }
        },
        "yaxis": {
         "anchor": "x",
         "domain": [
          0,
          1
         ],
         "title": {
          "text": "count"
         }
        }
       }
      }
     },
     "metadata": {},
     "output_type": "display_data"
    }
   ],
   "source": [
    "px.histogram(finalpreds['delta'])"
   ]
  },
  {
   "cell_type": "code",
   "execution_count": 83,
   "metadata": {},
   "outputs": [
    {
     "data": {
      "text/html": [
       "<div>\n",
       "<style scoped>\n",
       "    .dataframe tbody tr th:only-of-type {\n",
       "        vertical-align: middle;\n",
       "    }\n",
       "\n",
       "    .dataframe tbody tr th {\n",
       "        vertical-align: top;\n",
       "    }\n",
       "\n",
       "    .dataframe thead th {\n",
       "        text-align: right;\n",
       "    }\n",
       "</style>\n",
       "<table border=\"1\" class=\"dataframe\">\n",
       "  <thead>\n",
       "    <tr style=\"text-align: right;\">\n",
       "      <th></th>\n",
       "      <th>pid</th>\n",
       "      <th>pos</th>\n",
       "    </tr>\n",
       "  </thead>\n",
       "  <tbody>\n",
       "    <tr>\n",
       "      <th>0</th>\n",
       "      <td>17298</td>\n",
       "      <td>qb</td>\n",
       "    </tr>\n",
       "    <tr>\n",
       "      <th>1</th>\n",
       "      <td>19275</td>\n",
       "      <td>qb</td>\n",
       "    </tr>\n",
       "    <tr>\n",
       "      <th>2</th>\n",
       "      <td>15600</td>\n",
       "      <td>qb</td>\n",
       "    </tr>\n",
       "    <tr>\n",
       "      <th>3</th>\n",
       "      <td>17233</td>\n",
       "      <td>qb</td>\n",
       "    </tr>\n",
       "    <tr>\n",
       "      <th>4</th>\n",
       "      <td>19246</td>\n",
       "      <td>qb</td>\n",
       "    </tr>\n",
       "    <tr>\n",
       "      <th>...</th>\n",
       "      <td>...</td>\n",
       "      <td>...</td>\n",
       "    </tr>\n",
       "    <tr>\n",
       "      <th>5257</th>\n",
       "      <td>15325</td>\n",
       "      <td>te</td>\n",
       "    </tr>\n",
       "    <tr>\n",
       "      <th>5258</th>\n",
       "      <td>15392</td>\n",
       "      <td>te</td>\n",
       "    </tr>\n",
       "    <tr>\n",
       "      <th>5259</th>\n",
       "      <td>15760</td>\n",
       "      <td>te</td>\n",
       "    </tr>\n",
       "    <tr>\n",
       "      <th>5260</th>\n",
       "      <td>14339</td>\n",
       "      <td>te</td>\n",
       "    </tr>\n",
       "    <tr>\n",
       "      <th>5261</th>\n",
       "      <td>26994</td>\n",
       "      <td>te</td>\n",
       "    </tr>\n",
       "  </tbody>\n",
       "</table>\n",
       "<p>1082 rows × 2 columns</p>\n",
       "</div>"
      ],
      "text/plain": [
       "        pid pos\n",
       "0     17298  qb\n",
       "1     19275  qb\n",
       "2     15600  qb\n",
       "3     17233  qb\n",
       "4     19246  qb\n",
       "...     ...  ..\n",
       "5257  15325  te\n",
       "5258  15392  te\n",
       "5259  15760  te\n",
       "5260  14339  te\n",
       "5261  26994  te\n",
       "\n",
       "[1082 rows x 2 columns]"
      ]
     },
     "execution_count": 83,
     "metadata": {},
     "output_type": "execute_result"
    }
   ],
   "source": [
    "offstats[['pid', 'pos']].drop_duplicates()"
   ]
  },
  {
   "cell_type": "code",
   "execution_count": 85,
   "metadata": {},
   "outputs": [],
   "source": [
    "finalpreds= finalpreds.merge(offstats[['pid', 'pos']].drop_duplicates(), on='pid', how='inner')"
   ]
  },
  {
   "cell_type": "code",
   "execution_count": 86,
   "metadata": {},
   "outputs": [],
   "source": [
    "finalpreds.to_csv(\"predictions/ppr_estimate.csv\", index=False)"
   ]
  },
  {
   "cell_type": "code",
   "execution_count": null,
   "metadata": {},
   "outputs": [],
   "source": []
  }
 ],
 "metadata": {
  "kernelspec": {
   "display_name": "Python 3",
   "language": "python",
   "name": "python3"
  },
  "language_info": {
   "codemirror_mode": {
    "name": "ipython",
    "version": 3
   },
   "file_extension": ".py",
   "mimetype": "text/x-python",
   "name": "python",
   "nbconvert_exporter": "python",
   "pygments_lexer": "ipython3",
   "version": "3.9.6"
  }
 },
 "nbformat": 4,
 "nbformat_minor": 2
}
