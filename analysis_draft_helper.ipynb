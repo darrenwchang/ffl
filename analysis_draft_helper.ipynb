{
 "cells": [
  {
   "cell_type": "code",
   "execution_count": 1,
   "metadata": {},
   "outputs": [],
   "source": [
    "import pandas as pd"
   ]
  },
  {
   "cell_type": "code",
   "execution_count": 2,
   "metadata": {},
   "outputs": [],
   "source": [
    "pts = pd.read_csv(\"predictions/ppr_estimate.csv\")"
   ]
  },
  {
   "cell_type": "code",
   "execution_count": 3,
   "metadata": {},
   "outputs": [
    {
     "data": {
      "text/html": [
       "<div>\n",
       "<style scoped>\n",
       "    .dataframe tbody tr th:only-of-type {\n",
       "        vertical-align: middle;\n",
       "    }\n",
       "\n",
       "    .dataframe tbody tr th {\n",
       "        vertical-align: top;\n",
       "    }\n",
       "\n",
       "    .dataframe thead th {\n",
       "        text-align: right;\n",
       "    }\n",
       "</style>\n",
       "<table border=\"1\" class=\"dataframe\">\n",
       "  <thead>\n",
       "    <tr style=\"text-align: right;\">\n",
       "      <th></th>\n",
       "      <th>player</th>\n",
       "      <th>pid</th>\n",
       "      <th>Season</th>\n",
       "      <th>misc_fpts</th>\n",
       "      <th>lasso</th>\n",
       "      <th>ols</th>\n",
       "      <th>rf</th>\n",
       "      <th>ridge</th>\n",
       "      <th>median_est</th>\n",
       "      <th>delta</th>\n",
       "      <th>pos</th>\n",
       "    </tr>\n",
       "  </thead>\n",
       "  <tbody>\n",
       "    <tr>\n",
       "      <th>0</th>\n",
       "      <td>A.J. Brown (PHI)</td>\n",
       "      <td>18218</td>\n",
       "      <td>2024</td>\n",
       "      <td>289.6</td>\n",
       "      <td>289.526548</td>\n",
       "      <td>289.063789</td>\n",
       "      <td>288.354296</td>\n",
       "      <td>289.064135</td>\n",
       "      <td>289.063962</td>\n",
       "      <td>-0.536038</td>\n",
       "      <td>wr</td>\n",
       "    </tr>\n",
       "    <tr>\n",
       "      <th>1</th>\n",
       "      <td>A.T. Perry (NO)</td>\n",
       "      <td>24353</td>\n",
       "      <td>2024</td>\n",
       "      <td>60.6</td>\n",
       "      <td>60.614354</td>\n",
       "      <td>60.455730</td>\n",
       "      <td>60.354214</td>\n",
       "      <td>60.459152</td>\n",
       "      <td>60.457441</td>\n",
       "      <td>-0.142559</td>\n",
       "      <td>wr</td>\n",
       "    </tr>\n",
       "    <tr>\n",
       "      <th>2</th>\n",
       "      <td>AJ Barner (SEA)</td>\n",
       "      <td>26335</td>\n",
       "      <td>2024</td>\n",
       "      <td>0.0</td>\n",
       "      <td>-0.004305</td>\n",
       "      <td>-0.009750</td>\n",
       "      <td>-0.000034</td>\n",
       "      <td>-0.009788</td>\n",
       "      <td>-0.007028</td>\n",
       "      <td>-0.007028</td>\n",
       "      <td>te</td>\n",
       "    </tr>\n",
       "    <tr>\n",
       "      <th>3</th>\n",
       "      <td>AJ Dillon (GB)</td>\n",
       "      <td>19358</td>\n",
       "      <td>2024</td>\n",
       "      <td>117.6</td>\n",
       "      <td>117.657398</td>\n",
       "      <td>117.000441</td>\n",
       "      <td>117.747178</td>\n",
       "      <td>117.004988</td>\n",
       "      <td>117.331193</td>\n",
       "      <td>-0.268807</td>\n",
       "      <td>rb</td>\n",
       "    </tr>\n",
       "    <tr>\n",
       "      <th>4</th>\n",
       "      <td>AJ McCarron (FA)</td>\n",
       "      <td>12091</td>\n",
       "      <td>2024</td>\n",
       "      <td>0.8</td>\n",
       "      <td>0.805871</td>\n",
       "      <td>0.656989</td>\n",
       "      <td>0.912772</td>\n",
       "      <td>0.659277</td>\n",
       "      <td>0.732574</td>\n",
       "      <td>-0.067426</td>\n",
       "      <td>qb</td>\n",
       "    </tr>\n",
       "  </tbody>\n",
       "</table>\n",
       "</div>"
      ],
      "text/plain": [
       "             player    pid  Season  misc_fpts       lasso         ols  \\\n",
       "0  A.J. Brown (PHI)  18218    2024      289.6  289.526548  289.063789   \n",
       "1   A.T. Perry (NO)  24353    2024       60.6   60.614354   60.455730   \n",
       "2   AJ Barner (SEA)  26335    2024        0.0   -0.004305   -0.009750   \n",
       "3    AJ Dillon (GB)  19358    2024      117.6  117.657398  117.000441   \n",
       "4  AJ McCarron (FA)  12091    2024        0.8    0.805871    0.656989   \n",
       "\n",
       "           rf       ridge  median_est     delta pos  \n",
       "0  288.354296  289.064135  289.063962 -0.536038  wr  \n",
       "1   60.354214   60.459152   60.457441 -0.142559  wr  \n",
       "2   -0.000034   -0.009788   -0.007028 -0.007028  te  \n",
       "3  117.747178  117.004988  117.331193 -0.268807  rb  \n",
       "4    0.912772    0.659277    0.732574 -0.067426  qb  "
      ]
     },
     "execution_count": 3,
     "metadata": {},
     "output_type": "execute_result"
    }
   ],
   "source": [
    "pts.head()"
   ]
  },
  {
   "cell_type": "code",
   "execution_count": 8,
   "metadata": {},
   "outputs": [],
   "source": [
    "pts = pts.sort_values(\"median_est\", ascending=False).reset_index(drop=True)"
   ]
  },
  {
   "cell_type": "code",
   "execution_count": 17,
   "metadata": {},
   "outputs": [],
   "source": [
    "dst_projections = pd.read_csv(\"data/dst_projections.csv\")\n",
    "k_projections = pd.read_csv(\"data/k_projections.csv\")"
   ]
  },
  {
   "cell_type": "code",
   "execution_count": 15,
   "metadata": {},
   "outputs": [],
   "source": [
    "def clean_dstk(df: pd.DataFrame):\n",
    "    import numpy as np\n",
    "\n",
    "    df = df[[\"player\", \"pid\", \"Season\", \"fpts\", \"pos\"]]\n",
    "    df[\"misc_fpts\"] = df[\"fpts\"]\n",
    "    df[\"lasso\"] = df[\"fpts\"]\n",
    "    df[\"ols\"] = df[\"fpts\"]\n",
    "    df[\"rf\"] = df[\"fpts\"]\n",
    "    df[\"ridge\"] = df[\"fpts\"]\n",
    "    df[\"median_est\"] = df[\"fpts\"]\n",
    "    df[\"delta\"] = 0\n",
    "\n",
    "    return df[[\n",
    "        \"player\",\n",
    "        \"pid\",\n",
    "        \"Season\",\n",
    "        \"misc_fpts\",\n",
    "        \"lasso\",\n",
    "        \"ols\",\n",
    "        \"rf\",\n",
    "        \"ridge\",\n",
    "        \"median_est\",\n",
    "        \"delta\",\n",
    "        \"pos\",\n",
    "    ]]\n"
   ]
  },
  {
   "cell_type": "code",
   "execution_count": 19,
   "metadata": {},
   "outputs": [
    {
     "name": "stderr",
     "output_type": "stream",
     "text": [
      "/var/folders/6h/4bw0dlhd627__5j16_g7ndwh0000gn/T/ipykernel_50156/2783814974.py:5: SettingWithCopyWarning: \n",
      "A value is trying to be set on a copy of a slice from a DataFrame.\n",
      "Try using .loc[row_indexer,col_indexer] = value instead\n",
      "\n",
      "See the caveats in the documentation: https://pandas.pydata.org/pandas-docs/stable/user_guide/indexing.html#returning-a-view-versus-a-copy\n",
      "  df[\"misc_fpts\"] = df[\"fpts\"]\n",
      "/var/folders/6h/4bw0dlhd627__5j16_g7ndwh0000gn/T/ipykernel_50156/2783814974.py:6: SettingWithCopyWarning: \n",
      "A value is trying to be set on a copy of a slice from a DataFrame.\n",
      "Try using .loc[row_indexer,col_indexer] = value instead\n",
      "\n",
      "See the caveats in the documentation: https://pandas.pydata.org/pandas-docs/stable/user_guide/indexing.html#returning-a-view-versus-a-copy\n",
      "  df[\"lasso\"] = df[\"fpts\"]\n",
      "/var/folders/6h/4bw0dlhd627__5j16_g7ndwh0000gn/T/ipykernel_50156/2783814974.py:7: SettingWithCopyWarning: \n",
      "A value is trying to be set on a copy of a slice from a DataFrame.\n",
      "Try using .loc[row_indexer,col_indexer] = value instead\n",
      "\n",
      "See the caveats in the documentation: https://pandas.pydata.org/pandas-docs/stable/user_guide/indexing.html#returning-a-view-versus-a-copy\n",
      "  df[\"ols\"] = df[\"fpts\"]\n",
      "/var/folders/6h/4bw0dlhd627__5j16_g7ndwh0000gn/T/ipykernel_50156/2783814974.py:8: SettingWithCopyWarning: \n",
      "A value is trying to be set on a copy of a slice from a DataFrame.\n",
      "Try using .loc[row_indexer,col_indexer] = value instead\n",
      "\n",
      "See the caveats in the documentation: https://pandas.pydata.org/pandas-docs/stable/user_guide/indexing.html#returning-a-view-versus-a-copy\n",
      "  df[\"rf\"] = df[\"fpts\"]\n",
      "/var/folders/6h/4bw0dlhd627__5j16_g7ndwh0000gn/T/ipykernel_50156/2783814974.py:9: SettingWithCopyWarning: \n",
      "A value is trying to be set on a copy of a slice from a DataFrame.\n",
      "Try using .loc[row_indexer,col_indexer] = value instead\n",
      "\n",
      "See the caveats in the documentation: https://pandas.pydata.org/pandas-docs/stable/user_guide/indexing.html#returning-a-view-versus-a-copy\n",
      "  df[\"ridge\"] = df[\"fpts\"]\n",
      "/var/folders/6h/4bw0dlhd627__5j16_g7ndwh0000gn/T/ipykernel_50156/2783814974.py:10: SettingWithCopyWarning: \n",
      "A value is trying to be set on a copy of a slice from a DataFrame.\n",
      "Try using .loc[row_indexer,col_indexer] = value instead\n",
      "\n",
      "See the caveats in the documentation: https://pandas.pydata.org/pandas-docs/stable/user_guide/indexing.html#returning-a-view-versus-a-copy\n",
      "  df[\"median_est\"] = df[\"fpts\"]\n",
      "/var/folders/6h/4bw0dlhd627__5j16_g7ndwh0000gn/T/ipykernel_50156/2783814974.py:11: SettingWithCopyWarning: \n",
      "A value is trying to be set on a copy of a slice from a DataFrame.\n",
      "Try using .loc[row_indexer,col_indexer] = value instead\n",
      "\n",
      "See the caveats in the documentation: https://pandas.pydata.org/pandas-docs/stable/user_guide/indexing.html#returning-a-view-versus-a-copy\n",
      "  df[\"delta\"] = 0\n",
      "/var/folders/6h/4bw0dlhd627__5j16_g7ndwh0000gn/T/ipykernel_50156/2783814974.py:5: SettingWithCopyWarning: \n",
      "A value is trying to be set on a copy of a slice from a DataFrame.\n",
      "Try using .loc[row_indexer,col_indexer] = value instead\n",
      "\n",
      "See the caveats in the documentation: https://pandas.pydata.org/pandas-docs/stable/user_guide/indexing.html#returning-a-view-versus-a-copy\n",
      "  df[\"misc_fpts\"] = df[\"fpts\"]\n",
      "/var/folders/6h/4bw0dlhd627__5j16_g7ndwh0000gn/T/ipykernel_50156/2783814974.py:6: SettingWithCopyWarning: \n",
      "A value is trying to be set on a copy of a slice from a DataFrame.\n",
      "Try using .loc[row_indexer,col_indexer] = value instead\n",
      "\n",
      "See the caveats in the documentation: https://pandas.pydata.org/pandas-docs/stable/user_guide/indexing.html#returning-a-view-versus-a-copy\n",
      "  df[\"lasso\"] = df[\"fpts\"]\n"
     ]
    }
   ],
   "source": [
    "pts = pd.concat([pts, clean_dstk(dst_projections), clean_dstk(k_projections)])"
   ]
  },
  {
   "cell_type": "code",
   "execution_count": 20,
   "metadata": {},
   "outputs": [],
   "source": [
    "pts = pts.sort_values(\"median_est\", ascending=False).reset_index(drop=True)"
   ]
  },
  {
   "cell_type": "code",
   "execution_count": 21,
   "metadata": {},
   "outputs": [
    {
     "data": {
      "text/html": [
       "<div>\n",
       "<style scoped>\n",
       "    .dataframe tbody tr th:only-of-type {\n",
       "        vertical-align: middle;\n",
       "    }\n",
       "\n",
       "    .dataframe tbody tr th {\n",
       "        vertical-align: top;\n",
       "    }\n",
       "\n",
       "    .dataframe thead th {\n",
       "        text-align: right;\n",
       "    }\n",
       "</style>\n",
       "<table border=\"1\" class=\"dataframe\">\n",
       "  <thead>\n",
       "    <tr style=\"text-align: right;\">\n",
       "      <th></th>\n",
       "      <th>player</th>\n",
       "      <th>pid</th>\n",
       "      <th>Season</th>\n",
       "      <th>misc_fpts</th>\n",
       "      <th>lasso</th>\n",
       "      <th>ols</th>\n",
       "      <th>rf</th>\n",
       "      <th>ridge</th>\n",
       "      <th>median_est</th>\n",
       "      <th>delta</th>\n",
       "      <th>pos</th>\n",
       "    </tr>\n",
       "  </thead>\n",
       "  <tbody>\n",
       "    <tr>\n",
       "      <th>0</th>\n",
       "      <td>Josh Allen (BUF)</td>\n",
       "      <td>17298</td>\n",
       "      <td>2024</td>\n",
       "      <td>410.9</td>\n",
       "      <td>411.099312</td>\n",
       "      <td>412.190850</td>\n",
       "      <td>396.613602</td>\n",
       "      <td>412.211819</td>\n",
       "      <td>411.645081</td>\n",
       "      <td>0.745081</td>\n",
       "      <td>qb</td>\n",
       "    </tr>\n",
       "    <tr>\n",
       "      <th>1</th>\n",
       "      <td>CeeDee Lamb (DAL)</td>\n",
       "      <td>19202</td>\n",
       "      <td>2024</td>\n",
       "      <td>403.2</td>\n",
       "      <td>403.229977</td>\n",
       "      <td>403.562106</td>\n",
       "      <td>391.941219</td>\n",
       "      <td>403.566691</td>\n",
       "      <td>403.396041</td>\n",
       "      <td>0.196041</td>\n",
       "      <td>wr</td>\n",
       "    </tr>\n",
       "    <tr>\n",
       "      <th>2</th>\n",
       "      <td>Christian McCaffrey (SF)</td>\n",
       "      <td>16393</td>\n",
       "      <td>2024</td>\n",
       "      <td>391.3</td>\n",
       "      <td>391.703509</td>\n",
       "      <td>390.235317</td>\n",
       "      <td>319.027046</td>\n",
       "      <td>390.275056</td>\n",
       "      <td>390.255187</td>\n",
       "      <td>-1.044813</td>\n",
       "      <td>rb</td>\n",
       "    </tr>\n",
       "    <tr>\n",
       "      <th>3</th>\n",
       "      <td>Tyreek Hill (MIA)</td>\n",
       "      <td>15802</td>\n",
       "      <td>2024</td>\n",
       "      <td>376.4</td>\n",
       "      <td>376.355253</td>\n",
       "      <td>375.772263</td>\n",
       "      <td>377.116938</td>\n",
       "      <td>375.782719</td>\n",
       "      <td>376.068986</td>\n",
       "      <td>-0.331014</td>\n",
       "      <td>wr</td>\n",
       "    </tr>\n",
       "    <tr>\n",
       "      <th>4</th>\n",
       "      <td>Jalen Hurts (PHI)</td>\n",
       "      <td>19275</td>\n",
       "      <td>2024</td>\n",
       "      <td>371.9</td>\n",
       "      <td>372.060432</td>\n",
       "      <td>369.021016</td>\n",
       "      <td>368.298160</td>\n",
       "      <td>369.082277</td>\n",
       "      <td>369.051646</td>\n",
       "      <td>-2.848354</td>\n",
       "      <td>qb</td>\n",
       "    </tr>\n",
       "  </tbody>\n",
       "</table>\n",
       "</div>"
      ],
      "text/plain": [
       "                     player    pid  Season  misc_fpts       lasso         ols  \\\n",
       "0          Josh Allen (BUF)  17298    2024      410.9  411.099312  412.190850   \n",
       "1         CeeDee Lamb (DAL)  19202    2024      403.2  403.229977  403.562106   \n",
       "2  Christian McCaffrey (SF)  16393    2024      391.3  391.703509  390.235317   \n",
       "3         Tyreek Hill (MIA)  15802    2024      376.4  376.355253  375.772263   \n",
       "4         Jalen Hurts (PHI)  19275    2024      371.9  372.060432  369.021016   \n",
       "\n",
       "           rf       ridge  median_est     delta pos  \n",
       "0  396.613602  412.211819  411.645081  0.745081  qb  \n",
       "1  391.941219  403.566691  403.396041  0.196041  wr  \n",
       "2  319.027046  390.275056  390.255187 -1.044813  rb  \n",
       "3  377.116938  375.782719  376.068986 -0.331014  wr  \n",
       "4  368.298160  369.082277  369.051646 -2.848354  qb  "
      ]
     },
     "execution_count": 21,
     "metadata": {},
     "output_type": "execute_result"
    }
   ],
   "source": [
    "pts.head()"
   ]
  },
  {
   "cell_type": "code",
   "execution_count": 22,
   "metadata": {},
   "outputs": [],
   "source": [
    "pts.to_csv('predictions/draft_2024_order.csv', index=False)"
   ]
  },
  {
   "cell_type": "markdown",
   "metadata": {},
   "source": [
    "#### calc VORP"
   ]
  },
  {
   "cell_type": "code",
   "execution_count": 25,
   "metadata": {},
   "outputs": [],
   "source": [
    "qbs = pts.query(\"pos == 'qb'\")\n",
    "qbs = qbs.assign(rank=range(len(qbs)))\n",
    "qbst = qbs[qbs['rank']==9]\n",
    "qbs['vorp'] = qbs['median_est'] - qbst['median_est'].values"
   ]
  },
  {
   "cell_type": "code",
   "execution_count": 37,
   "metadata": {},
   "outputs": [],
   "source": [
    "flex = pts.query(\"pos in ['rb', 'wr', 'te']\")\n",
    "flex = flex.assign(rank=range(len(flex)))\n",
    "flex = flex[flex['rank']==(5*10-1)]\n",
    "flex['flex_vorp'] = flex['median_est'] - flex['median_est'].values"
   ]
  },
  {
   "cell_type": "code",
   "execution_count": 44,
   "metadata": {},
   "outputs": [],
   "source": [
    "def calc_vorp(pts_df: pd.DataFrame, pos: str, num: int):\n",
    "    vorpdf = pts.query(f\"pos == '{pos}'\")\n",
    "    vorpdf = vorpdf.assign(rank=range(len(vorpdf)))\n",
    "    vropmax = vorpdf[vorpdf['rank']==(num*9-1)]\n",
    "    vorpdf['vorp'] = vorpdf['median_est'] - vropmax['median_est'].values\n",
    "\n",
    "    return vorpdf\n",
    "    "
   ]
  },
  {
   "cell_type": "code",
   "execution_count": 45,
   "metadata": {},
   "outputs": [],
   "source": [
    "vorps = pd.DataFrame()\n",
    "for p, n in [('qb', 1), ('rb', 2), ('wr', 2), ('te', 1), ('dst', 1), ('k', 1)]:\n",
    "    vorpdf = calc_vorp(pts, p, n)\n",
    "\n",
    "    vorps = pd.concat([vorps, vorpdf], axis=0)"
   ]
  },
  {
   "cell_type": "code",
   "execution_count": 48,
   "metadata": {},
   "outputs": [],
   "source": [
    "ests_vorps = vorps.merge(flex[['pid', 'flex_vorp']], how='left', on='pid')\n"
   ]
  },
  {
   "cell_type": "code",
   "execution_count": null,
   "metadata": {},
   "outputs": [],
   "source": [
    "ests_vorps.to_csv('predictions/pts_vorps.csv', index=False)"
   ]
  },
  {
   "cell_type": "code",
   "execution_count": null,
   "metadata": {},
   "outputs": [],
   "source": []
  },
  {
   "cell_type": "code",
   "execution_count": null,
   "metadata": {},
   "outputs": [],
   "source": [
    "vorps"
   ]
  },
  {
   "cell_type": "code",
   "execution_count": null,
   "metadata": {},
   "outputs": [],
   "source": []
  }
 ],
 "metadata": {
  "kernelspec": {
   "display_name": "Python 3",
   "language": "python",
   "name": "python3"
  },
  "language_info": {
   "codemirror_mode": {
    "name": "ipython",
    "version": 3
   },
   "file_extension": ".py",
   "mimetype": "text/x-python",
   "name": "python",
   "nbconvert_exporter": "python",
   "pygments_lexer": "ipython3",
   "version": "3.9.6"
  }
 },
 "nbformat": 4,
 "nbformat_minor": 2
}
